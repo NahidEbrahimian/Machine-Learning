{
 "cells": [
  {
   "cell_type": "code",
   "execution_count": 1,
   "id": "43daaa31-4736-41bc-916b-bb556794efdd",
   "metadata": {},
   "outputs": [],
   "source": [
    "import numpy as np\n",
    "import pandas as pd\n",
    "import matplotlib.pyplot as plt"
   ]
  },
  {
   "cell_type": "markdown",
   "id": "2f8f852b-d6ba-43a6-98af-ff8d3986922b",
   "metadata": {},
   "source": [
    "#### load and preprocessing data"
   ]
  },
  {
   "cell_type": "code",
   "execution_count": 2,
   "id": "fa9f77b4-d324-481d-8a45-ebf7db616b03",
   "metadata": {},
   "outputs": [
    {
     "name": "stdout",
     "output_type": "stream",
     "text": [
      "(891, 1)\n"
     ]
    }
   ],
   "source": [
    "train_data = pd.read_csv('train.csv')\n",
    "\n",
    "train_data = train_data.replace(['female', 'male'], [0, 1])\n",
    "train_data = train_data.replace(['S', 'C', 'Q'], [0, 1, 2])\n",
    "train_data = train_data.fillna(0)\n",
    "\n",
    "Y_train = train_data[['Survived']]\n",
    "print(Y_train.shape)\n",
    "\n",
    "X_train = train_data[['Pclass', 'Sex', 'Fare', 'Age', 'SibSp', 'Parch', 'Embarked']]\n",
    "\n",
    "Y_train = np.array(Y_train)\n",
    "Y_train = Y_train.reshape(-1)\n",
    "X_train = np.array(X_train)"
   ]
  },
  {
   "cell_type": "code",
   "execution_count": 3,
   "id": "b9b59246-08f0-46fc-afb1-e38b6a385efb",
   "metadata": {},
   "outputs": [
    {
     "name": "stdout",
     "output_type": "stream",
     "text": [
      "(418,)\n"
     ]
    }
   ],
   "source": [
    "test_data = pd.read_csv('test.csv')\n",
    "\n",
    "test_data = test_data.replace(['female', 'male'], [0, 1])\n",
    "test_data = test_data.replace(['S', 'C', 'Q'], [0, 1, 2])\n",
    "test_data = test_data.fillna(0)\n",
    "\n",
    "X_test = test_data[['Pclass', 'Sex', 'Fare', 'Age', 'SibSp', 'Parch', 'Embarked']]\n",
    "\n",
    "test_label = pd.read_csv('gender_submission.csv')\n",
    "Y_test = test_label[['Survived']]\n",
    "\n",
    "Y_test = np.array(Y_test)\n",
    "Y_test = Y_test.reshape(-1)\n",
    "print(Y_test.reshape(-1).shape)\n",
    "X_test = np.array(X_test)"
   ]
  },
  {
   "cell_type": "markdown",
   "id": "9f82e8ad-46fe-464b-bfc3-25f82dc1c78d",
   "metadata": {},
   "source": [
    "### Perceptron class, fit, predict and evaluation"
   ]
  },
  {
   "cell_type": "code",
   "execution_count": 4,
   "id": "0bf94fab-a7ef-47d7-85ce-7aea11605ca7",
   "metadata": {},
   "outputs": [],
   "source": [
    "class Perceptron:\n",
    "    def __init__(self):\n",
    "        pass\n",
    "    \n",
    "    def fit(self, itr, X_tarin, Y_tarin):\n",
    "        self.w = np.random.rand(7)\n",
    "#         print(self.w)\n",
    "        self.b = np.random.rand(1)\n",
    "        lr = 0.000001\n",
    "        MAE = []\n",
    "        MSE = []\n",
    "\n",
    "        for j in range(itr):\n",
    "            mae = []\n",
    "            mse = []\n",
    "\n",
    "            for i in range(X_train.shape[0]):\n",
    "                x_train = X_train[i].reshape(1,-1)\n",
    "                y_pred = np.matmul(x_train, self.w ) + self.b\n",
    "\n",
    "                e = Y_train[i] - y_pred\n",
    "                \n",
    "                self.w = self.w  + e * lr * X_train[i]\n",
    "                self.b = self.b + e * lr * 1\n",
    "         \n",
    "                mae.append(np.abs(e))\n",
    "                mse.append(np.square(e))\n",
    "\n",
    "            MAE.append(np.mean(mae))\n",
    "            MSE.append(np.mean(mse))\n",
    "        \n",
    "        np.save('w', self.w)\n",
    "        np.save('b', self.b)\n",
    "        return MAE, MSE\n",
    "\n",
    "    def predict(self, X_test):\n",
    "        w = np.load('w.npy')\n",
    "        b = np.load('b.npy')\n",
    "        Y_pred = np.matmul(X_test, w) + b\n",
    "        Y_pred[Y_pred > 0.5] = 1\n",
    "        Y_pred[Y_pred <= 0.5] = 0\n",
    "\n",
    "        return Y_pred\n",
    "\n",
    "    def evaluate(self, X_test, Y_test):\n",
    "        w = np.load('w.npy')\n",
    "        b = np.load('b.npy')\n",
    "        Y_pred = np.matmul(X_test, w) + b\n",
    "        \n",
    "        Y_pred[Y_pred > 0.5] = 1\n",
    "        Y_pred[Y_pred <= 0.5] = 0\n",
    "    \n",
    "        accuracy = np.count_nonzero(Y_pred == Y_test) / len(Y_test) * 100\n",
    "                                 \n",
    "        return accuracy"
   ]
  },
  {
   "cell_type": "code",
   "execution_count": 15,
   "id": "ac3b6eef-29f2-4f97-8efa-8927f04bdae5",
   "metadata": {},
   "outputs": [
    {
     "name": "stdout",
     "output_type": "stream",
     "text": [
      "MAE in end of train:  2.6211897157274953 \n",
      "MSE in end of train: 9.532872313644846\n"
     ]
    }
   ],
   "source": [
    "# train\n",
    "\n",
    "itration = 5\n",
    "model = Perceptron()\n",
    "MAE, MSE = model.fit(itration, X_train, Y_train)\n",
    "print('MAE in end of train: ', np.min(MAE), '\\nMSE in end of train:', np.min(MSE))\n",
    "# print(model.w)"
   ]
  },
  {
   "cell_type": "code",
   "execution_count": 16,
   "id": "62b779e3-bbdf-4b2b-9118-1fd2e4b77d65",
   "metadata": {},
   "outputs": [
    {
     "data": {
      "text/plain": [
       "Text(0.5, 1.0, 'MAE during Training')"
      ]
     },
     "execution_count": 16,
     "metadata": {},
     "output_type": "execute_result"
    },
    {
     "data": {
      "image/png": "[encoded data removed]",
      "text/plain": [
       "<Figure size 432x288 with 1 Axes>"
      ]
     },
     "metadata": {
      "needs_background": "light"
     },
     "output_type": "display_data"
    }
   ],
   "source": [
    "plt.plot((np.arange(len(MAE))), MAE, c = 'b')\n",
    "plt.xlabel('Epoch')\n",
    "plt.ylabel('MAE')\n",
    "plt.title('MAE during Training')"
   ]
  },
  {
   "cell_type": "code",
   "execution_count": 17,
   "id": "04923be0-d541-4900-8594-423c393118b6",
   "metadata": {},
   "outputs": [
    {
     "data": {
      "text/plain": [
       "Text(0.5, 1.0, 'MSE during Training')"
      ]
     },
     "execution_count": 17,
     "metadata": {},
     "output_type": "execute_result"
    },
    {
     "data": {
      "image/png": "[encoded data removed]",
      "text/plain": [
       "<Figure size 432x288 with 1 Axes>"
      ]
     },
     "metadata": {
      "needs_background": "light"
     },
     "output_type": "display_data"
    }
   ],
   "source": [
    "plt.plot(MSE, c = 'b')\n",
    "plt.xlabel('Epoch')\n",
    "plt.ylabel('MSE')\n",
    "plt.title('MSE during Training')"
   ]
  },
  {
   "cell_type": "code",
   "execution_count": 19,
   "id": "51bd62b2-2ec8-4e17-9724-678c41655302",
   "metadata": {},
   "outputs": [
    {
     "name": "stdout",
     "output_type": "stream",
     "text": [
      "[1. 1. 1. 1. 1. 1. 1. 1. 1. 1. 1. 0. 0. 1. 0. 1. 1. 1. 1. 1. 0. 1. 1. 1.\n",
      " 0. 1. 1. 1. 0. 1. 1. 1. 1. 1. 1. 1. 1. 1. 1. 1. 1. 1. 1. 1. 0. 1. 0. 1.\n",
      " 0. 1. 1. 1. 1. 0. 1. 1. 1. 1. 1. 0. 1. 1. 1. 1. 0. 1. 1. 0. 1. 0. 1. 1.\n",
      " 1. 1. 0. 0. 1. 0. 1. 1. 1. 0. 0. 1. 1. 1. 1. 1. 1. 1. 1. 1. 1. 1. 1. 1.\n",
      " 0. 1. 1. 1. 0. 1. 1. 1. 1. 1. 1. 1. 1. 1. 1. 1. 0. 1. 0. 1. 1. 1. 0. 1.\n",
      " 1. 1. 0. 1. 1. 1. 1. 1. 1. 1. 1. 0. 1. 1. 1. 1. 1. 1. 1. 1. 1. 0. 0. 1.\n",
      " 0. 1. 1. 1. 1. 1. 0. 1. 1. 1. 1. 1. 0. 1. 0. 1. 1. 1. 1. 1. 1. 1. 0. 1.\n",
      " 1. 1. 1. 1. 1. 1. 1. 1. 1. 0. 1. 0. 1. 1. 0. 1. 0. 1. 1. 1. 1. 1. 1. 1.\n",
      " 1. 1. 1. 1. 1. 1. 1. 1. 1. 1. 0. 1. 1. 1. 1. 1. 0. 1. 1. 1. 1. 0. 1. 0.\n",
      " 1. 0. 0. 1. 1. 1. 1. 1. 0. 1. 1. 1. 1. 1. 1. 0. 1. 1. 0. 1. 0. 1. 1. 0.\n",
      " 0. 1. 0. 1. 1. 0. 1. 1. 1. 1. 1. 1. 0. 1. 1. 1. 1. 1. 1. 1. 1. 1. 1. 1.\n",
      " 1. 1. 1. 1. 1. 1. 0. 1. 0. 1. 1. 1. 1. 1. 1. 1. 1. 1. 1. 1. 1. 1. 1. 0.\n",
      " 1. 1. 1. 1. 1. 0. 1. 1. 1. 1. 0. 1. 1. 1. 1. 1. 1. 0. 1. 1. 0. 1. 1. 1.\n",
      " 1. 1. 0. 1. 0. 1. 1. 1. 1. 1. 1. 1. 0. 1. 1. 0. 1. 1. 1. 0. 1. 1. 1. 1.\n",
      " 1. 1. 1. 1. 1. 1. 1. 0. 1. 1. 1. 1. 1. 1. 0. 1. 1. 1. 1. 0. 0. 1. 1. 1.\n",
      " 1. 1. 1. 1. 0. 1. 1. 1. 0. 1. 1. 0. 0. 1. 0. 0. 1. 1. 0. 1. 1. 1. 1. 1.\n",
      " 1. 1. 1. 1. 1. 1. 0. 0. 1. 1. 1. 0. 1. 0. 1. 1. 0. 1. 1. 1. 1. 1. 1. 0.\n",
      " 1. 1. 1. 0. 1. 1. 0. 1. 1. 1.]\n"
     ]
    }
   ],
   "source": [
    "Y_pred = model.predict(X_test)\n",
    "print(Y_pred)"
   ]
  },
  {
   "cell_type": "code",
   "execution_count": 20,
   "id": "ca03abb7-056f-40d5-a5f6-ee050434acc0",
   "metadata": {},
   "outputs": [
    {
     "name": "stdout",
     "output_type": "stream",
     "text": [
      "accuracy on X_test : 34.21052631578947\n"
     ]
    }
   ],
   "source": [
    "evaluate = model.evaluate(X_test, Y_test)\n",
    "print('accuracy on X_test :', evaluate)"
   ]
  },
  {
   "cell_type": "code",
   "execution_count": null,
   "id": "fb5fef83-747b-43bc-b8fc-d07ee9b2436d",
   "metadata": {},
   "outputs": [],
   "source": []
  }
 ],
 "metadata": {
  "kernelspec": {
   "display_name": "Python 3 (ipykernel)",
   "language": "python",
   "name": "python3"
  },
  "language_info": {
   "codemirror_mode": {
    "name": "ipython",
    "version": 3
   },
   "file_extension": ".py",
   "mimetype": "text/x-python",
   "name": "python",
   "nbconvert_exporter": "python",
   "pygments_lexer": "ipython3",
   "version": "3.7.9"
  }
 },
 "nbformat": 4,
 "nbformat_minor": 5
}
