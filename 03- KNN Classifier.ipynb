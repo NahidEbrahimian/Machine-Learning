{
 "cells": [
  {
   "cell_type": "code",
   "execution_count": 1,
   "id": "dba0ab5a-d7e4-457f-b110-cb655b56943e",
   "metadata": {},
   "outputs": [],
   "source": [
    "import numpy as np\n",
    "import matplotlib.pyplot as plt\n",
    "import pandas as pd"
   ]
  },
  {
   "cell_type": "markdown",
   "id": "88399def-3b91-4aef-b533-8e5eb634e98b",
   "metadata": {},
   "source": [
    "### data"
   ]
  },
  {
   "cell_type": "code",
   "execution_count": 2,
   "id": "d39fa772-3e4c-4700-9e4f-c736ed026d16",
   "metadata": {},
   "outputs": [],
   "source": [
    "#banana width = 4\n",
    "#banana length = 8\n",
    "#apple width =6\n",
    "#apple length =6\n",
    "\n",
    "N = 400\n",
    "std = 0.5\n",
    "bananas_width = np.random.normal(4, std, N)\n",
    "bananas_length = np.random.normal(8, std, N)\n",
    "\n",
    "apples_width = np.random.normal(6, std, N)\n",
    "apples_length = np.random.normal(6, std, N)\n",
    "\n",
    "width = np.concatenate((bananas_width, apples_width))\n",
    "length = np.concatenate((bananas_length, apples_length))\n",
    "\n",
    "X = np.array([width, length]).T\n",
    "\n",
    "bananas_labels = np.zeros(N, dtype = 'int')\n",
    "apples_labels = np.ones(N, dtype = 'int')\n",
    "\n",
    "Y = np.concatenate((bananas_labels, apples_labels))"
   ]
  },
  {
   "cell_type": "code",
   "execution_count": 3,
   "id": "178967c5-7689-4978-be53-b6cdf664761b",
   "metadata": {},
   "outputs": [
    {
     "data": {
      "text/plain": [
       "Text(0, 0.5, 'Length')"
      ]
     },
     "execution_count": 3,
     "metadata": {},
     "output_type": "execute_result"
    },
    {
     "data": {
      "image/png": "[encoded data removed]",
      "text/plain": [
       "<Figure size 432x288 with 1 Axes>"
      ]
     },
     "metadata": {
      "needs_background": "light"
     },
     "output_type": "display_data"
    }
   ],
   "source": [
    "plt.scatter(X[0 : N, 0], X[0 : N , 1],  label='bananas', c='orange')\n",
    "plt.scatter(X[N :, 0], X[N: , 1],  label='apples', c='red')\n",
    "\n",
    "plt.legend()\n",
    "plt.xlabel('Width')\n",
    "plt.ylabel('Length')"
   ]
  },
  {
   "cell_type": "markdown",
   "id": "7c11405f-7d4c-449b-b285-6ae9cd879892",
   "metadata": {},
   "source": [
    "### KNearestNeighbore classifier"
   ]
  },
  {
   "cell_type": "code",
   "execution_count": 10,
   "id": "fa26da5b-dea7-4228-8bc6-e1f0d951fb6a",
   "metadata": {},
   "outputs": [],
   "source": [
    "class KNearestNeighbore():\n",
    "    def __init__(self, k):\n",
    "        self.k = k\n",
    "    \n",
    "    \n",
    "    def fit(self, X_train, y_train):\n",
    "        self.X_train = X_train\n",
    "        self.y_train = y_train\n",
    "        self.number_classes = len(np.unique(y_train))\n",
    "    \n",
    "    def nearNeighbors(self, x_test):\n",
    "        distance = np.sqrt(np.sum((x_test- self.X_train)**2, axis = 1))\n",
    "        near_neighbors = np.argsort(distance)[:self.k]\n",
    "        \n",
    "        return near_neighbors\n",
    "    \n",
    "    def predict(self, x_test):\n",
    "        near_neighbors = self.nearNeighbors(x_test)\n",
    "        predict_label = np.argmax(np.bincount(self.y_train[near_neighbors]))\n",
    "            \n",
    "        return predict_label\n",
    "    \n",
    "    def evaluate(self, X_test, y_test):\n",
    "        self.X_test = X_test\n",
    "        self.Y_test = y_test\n",
    "        y_pred = []     \n",
    "        \n",
    "        for i in range(len(X_test)):\n",
    "            y_pred.append(self.predict(X_test[i]))\n",
    "            \n",
    "        true_label = np.count_nonzero(y_pred == y_test)\n",
    "        accuracy = (true_label / len(y_pred))*100\n",
    "        \n",
    "        return accuracy"
   ]
  },
  {
   "cell_type": "markdown",
   "id": "01dc7bc8-6bb9-4b63-908b-702208f522da",
   "metadata": {},
   "source": [
    "## test and train split"
   ]
  },
  {
   "cell_type": "code",
   "execution_count": 5,
   "id": "0a57ef37-0644-46ec-8db2-610c04f80cc1",
   "metadata": {},
   "outputs": [],
   "source": [
    "from sklearn.model_selection import train_test_split\n",
    "\n",
    "X_train, X_test, y_train, y_test = train_test_split(X, Y, test_size=0.2, random_state=42)"
   ]
  },
  {
   "cell_type": "markdown",
   "id": "c8e8bc55-814a-4f08-b75e-afc61bf34290",
   "metadata": {},
   "source": [
    "### fit, predict and evaluating model"
   ]
  },
  {
   "cell_type": "code",
   "execution_count": 11,
   "id": "daddbd0d-522e-4df1-bd11-f621046fce92",
   "metadata": {},
   "outputs": [
    {
     "name": "stdout",
     "output_type": "stream",
     "text": [
      "99.375\n"
     ]
    }
   ],
   "source": [
    "knn = KNearestNeighbore(3)\n",
    "knn.fit(X_train, y_train)\n",
    "\n",
    "accuracy = knn.evaluate(X_test, y_test)\n",
    "\n",
    "print(accuracy)"
   ]
  },
  {
   "cell_type": "markdown",
   "id": "2de32c48-b9b6-4e30-a88c-9e0e92dbed24",
   "metadata": {},
   "source": [
    "### fit, predict and evaluating model using sklearn KNeighborsClassifier"
   ]
  },
  {
   "cell_type": "code",
   "execution_count": 15,
   "id": "030eca7c-1588-45f7-950a-6c7f35c2fd46",
   "metadata": {},
   "outputs": [
    {
     "name": "stdout",
     "output_type": "stream",
     "text": [
      "99.375\n"
     ]
    }
   ],
   "source": [
    "import sklearn\n",
    "from sklearn.neighbors import KNeighborsClassifier\n",
    "\n",
    "classifier = KNeighborsClassifier(n_neighbors = 3)\n",
    "classifier.fit(X, Y)\n",
    "\n",
    "y_pred = classifier.predict(X_test)\n",
    "accuracy = np.count_nonzero(y_pred == y_test) / len(y_test) * 100\n",
    "print(accuracy)\n",
    "\n"
   ]
  },
  {
   "cell_type": "code",
   "execution_count": null,
   "id": "ea3d5540-b33d-4212-b66a-88f17722219a",
   "metadata": {},
   "outputs": [],
   "source": []
  }
 ],
 "metadata": {
  "kernelspec": {
   "display_name": "Python 3 (ipykernel)",
   "language": "python",
   "name": "python3"
  },
  "language_info": {
   "codemirror_mode": {
    "name": "ipython",
    "version": 3
   },
   "file_extension": ".py",
   "mimetype": "text/x-python",
   "name": "python",
   "nbconvert_exporter": "python",
   "pygments_lexer": "ipython3",
   "version": "3.7.9"
  }
 },
 "nbformat": 4,
 "nbformat_minor": 5
}
