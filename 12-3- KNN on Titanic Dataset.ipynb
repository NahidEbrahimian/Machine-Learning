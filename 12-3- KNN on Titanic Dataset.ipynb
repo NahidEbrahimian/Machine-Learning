{
 "cells": [
  {
   "cell_type": "code",
   "execution_count": 1,
   "id": "f1b3e80c-e8d6-4b1b-ae51-59fc5f109f94",
   "metadata": {},
   "outputs": [],
   "source": [
    "import numpy as np\n",
    "import pandas as pd"
   ]
  },
  {
   "cell_type": "markdown",
   "id": "cc47cc7c-fe42-4af5-97cb-cc9b0299612a",
   "metadata": {},
   "source": [
    "#### load and preprocessing data"
   ]
  },
  {
   "cell_type": "code",
   "execution_count": 2,
   "id": "0a32b5b9-678e-4e7d-8ab6-2acee97e2013",
   "metadata": {},
   "outputs": [
    {
     "name": "stdout",
     "output_type": "stream",
     "text": [
      "(891, 1)\n"
     ]
    }
   ],
   "source": [
    "train_data = pd.read_csv('train.csv')\n",
    "\n",
    "train_data = train_data.replace(['female', 'male'], [0, 1])\n",
    "train_data = train_data.replace(['S', 'C', 'Q'], [0, 1, 2])\n",
    "train_data = train_data.fillna(0)\n",
    "\n",
    "Y_train = train_data[['Survived']]\n",
    "print(Y_train.shape)\n",
    "\n",
    "X_train = train_data[['Pclass', 'Sex', 'Fare', 'Age', 'SibSp', 'Parch', 'Embarked']]\n",
    "\n",
    "Y_train = np.array(Y_train)\n",
    "Y_train = Y_train.reshape(-1)\n",
    "X_train = np.array(X_train)"
   ]
  },
  {
   "cell_type": "code",
   "execution_count": 3,
   "id": "bd380e8f-4b0b-41fe-999d-b75beb6615a1",
   "metadata": {},
   "outputs": [
    {
     "name": "stdout",
     "output_type": "stream",
     "text": [
      "(418,)\n"
     ]
    }
   ],
   "source": [
    "test_data = pd.read_csv('test.csv')\n",
    "\n",
    "test_data = test_data.replace(['female', 'male'], [0, 1])\n",
    "test_data = test_data.replace(['S', 'C', 'Q'], [0, 1, 2])\n",
    "test_data = test_data.fillna(0)\n",
    "\n",
    "X_test = test_data[['Pclass', 'Sex', 'Fare', 'Age', 'SibSp', 'Parch', 'Embarked']]\n",
    "\n",
    "test_label = pd.read_csv('gender_submission.csv')\n",
    "Y_test = test_label[['Survived']]\n",
    "\n",
    "Y_test = np.array(Y_test)\n",
    "Y_test = Y_test.reshape(-1)\n",
    "print(Y_test.reshape(-1).shape)\n",
    "X_test = np.array(X_test)\n"
   ]
  },
  {
   "cell_type": "code",
   "execution_count": 4,
   "id": "967e8790-b1d2-4df7-835e-c9b6f4cba09e",
   "metadata": {},
   "outputs": [],
   "source": [
    "class KNearestNeighbore():\n",
    "    def __init__(self, k):\n",
    "        \"\"\"\n",
    "        Initialize the K Nearest Neighbor classifier.\n",
    "\n",
    "        Args:\n",
    "        k (int): Number of neighbors to consider.\n",
    "        \"\"\"\n",
    "        self.k = k\n",
    "    \n",
    "    \n",
    "    def fit(self, X_train, y_train):\n",
    "        \"\"\"\n",
    "        Fit the model to the training data.\n",
    "\n",
    "        Args:\n",
    "        X_train (numpy.ndarray): Input features for training.\n",
    "        y_train (numpy.ndarray): Output labels for training.\n",
    "        \"\"\"\n",
    "        self.X_train = X_train\n",
    "        self.y_train = y_train\n",
    "        self.number_classes = len(np.unique(y_train))\n",
    "    \n",
    "    def nearNeighbors(self, x_test):\n",
    "        \"\"\"\n",
    "        Find the indices of the k nearest neighbors for a given test sample.\n",
    "\n",
    "        Args:\n",
    "        x_test (numpy.ndarray): Input feature vector for testing.\n",
    "\n",
    "        Returns:\n",
    "        numpy.ndarray: Indices of the k nearest neighbors.\n",
    "        \"\"\"\n",
    "        distance = np.sqrt(np.sum((x_test - self.X_train) ** 2, axis=1))\n",
    "        near_neighbors = np.argsort(distance)[:self.k]\n",
    "        \n",
    "        return near_neighbors\n",
    "    \n",
    "    def predict(self, x_test):\n",
    "        \"\"\"\n",
    "        Predict the label for a given test sample.\n",
    "\n",
    "        Args:\n",
    "        x_test (numpy.ndarray): Input feature vector for testing.\n",
    "\n",
    "        Returns:\n",
    "        int: Predicted label for the test sample.\n",
    "        \"\"\"\n",
    "        near_neighbors = self.nearNeighbors(x_test)\n",
    "        predict_label = np.argmax(np.bincount(self.y_train[near_neighbors]))\n",
    "            \n",
    "        return predict_label\n",
    "    \n",
    "    def evaluate(self, X_test, y_test):\n",
    "        \"\"\"\n",
    "        Evaluate the performance of the model on the test data.\n",
    "\n",
    "        Args:\n",
    "        X_test (numpy.ndarray): Input features for testing.\n",
    "        y_test (numpy.ndarray): True output labels for testing.\n",
    "\n",
    "        Returns:\n",
    "        float: Accuracy of the model on the test data.\n",
    "        \"\"\"\n",
    "        self.X_test = X_test\n",
    "        self.Y_test = y_test\n",
    "        y_pred = []     \n",
    "        \n",
    "        for i in range(len(X_test)):\n",
    "            y_pred.append(self.predict(X_test[i]))\n",
    "            \n",
    "        true_label = np.count_nonzero(y_pred == y_test)\n",
    "        accuracy = (true_label / len(y_pred))*100\n",
    "        \n",
    "        return accuracy\n"
   ]
  },
  {
   "cell_type": "code",
   "execution_count": 5,
   "id": "afa9af1b-7a3a-4b65-bca4-57f6f8b8de57",
   "metadata": {},
   "outputs": [
    {
     "name": "stdout",
     "output_type": "stream",
     "text": [
      "65.55023923444976\n"
     ]
    }
   ],
   "source": [
    "knn = KNearestNeighbore(5)\n",
    "knn.fit(X_train, Y_train)\n",
    "# print(X_test[0])\n",
    "accuracy = knn.evaluate(X_test, Y_test)\n",
    "\n",
    "print(accuracy)"
   ]
  }
 ],
 "metadata": {
  "kernelspec": {
   "display_name": "Python 3 (ipykernel)",
   "language": "python",
   "name": "python3"
  },
  "language_info": {
   "codemirror_mode": {
    "name": "ipython",
    "version": 3
   },
   "file_extension": ".py",
   "mimetype": "text/x-python",
   "name": "python",
   "nbconvert_exporter": "python",
   "pygments_lexer": "ipython3",
   "version": "3.7.9"
  }
 },
 "nbformat": 4,
 "nbformat_minor": 5
}
