{
  "nbformat": 4,
  "nbformat_minor": 0,
  "metadata": {
    "colab": {
      "name": "MachineLearning10.ipynb",
      "provenance": [],
      "collapsed_sections": []
    },
    "kernelspec": {
      "display_name": "Python 3",
      "name": "python3"
    },
    "language_info": {
      "name": "python"
    }
  },
  "cells": [
    {
      "cell_type": "code",
      "metadata": {
        "id": "OJKiVooP7VQO"
      },
      "source": [
        "!pip install wandb"
      ],
      "execution_count": null,
      "outputs": []
    },
    {
      "cell_type": "code",
      "metadata": {
        "id": "5WgBV8ZxEprA"
      },
      "source": [
        "import pandas as pd\n",
        "import numpy as np\n",
        "import tensorflow as tf\n",
        "import wandb\n",
        "import matplotlib.pyplot as plt\n",
        "from wandb.keras import WandbCallback"
      ],
      "execution_count": 2,
      "outputs": []
    },
    {
      "cell_type": "code",
      "metadata": {
        "colab": {
          "base_uri": "https://localhost:8080/"
        },
        "id": "xzMapUwrGET7",
        "outputId": "50b1cbc4-1d54-46a3-bc40-fe6cf1aa64b8"
      },
      "source": [
        "cd /content/drive/MyDrive/MachineLearning/MachineLearning10"
      ],
      "execution_count": 3,
      "outputs": [
        {
          "output_type": "stream",
          "name": "stdout",
          "text": [
            "/content/drive/MyDrive/MachineLearning/MachineLearning10\n"
          ]
        }
      ]
    },
    {
      "cell_type": "markdown",
      "metadata": {
        "id": "9SLxdLBpk3iR"
      },
      "source": [
        "### 1- Load and preprocessing data"
      ]
    },
    {
      "cell_type": "code",
      "metadata": {
        "colab": {
          "base_uri": "https://localhost:8080/"
        },
        "id": "wgnokX_qGKju",
        "outputId": "df951f3d-269d-4fc4-c1e7-3d0fe0e6992a"
      },
      "source": [
        "# load data\n",
        "\n",
        "train_data = pd.read_csv('data/train.csv')\n",
        "test_data = pd.read_csv('data/test.csv')\n",
        "print(train_data.shape, test_data.shape)\n",
        "train_data.info()"
      ],
      "execution_count": 4,
      "outputs": [
        {
          "output_type": "stream",
          "name": "stdout",
          "text": [
            "(1460, 81) (1459, 80)\n",
            "<class 'pandas.core.frame.DataFrame'>\n",
            "RangeIndex: 1460 entries, 0 to 1459\n",
            "Data columns (total 81 columns):\n",
            " #   Column         Non-Null Count  Dtype  \n",
            "---  ------         --------------  -----  \n",
            " 0   Id             1460 non-null   int64  \n",
            " 1   MSSubClass     1460 non-null   int64  \n",
            " 2   MSZoning       1460 non-null   object \n",
            " 3   LotFrontage    1201 non-null   float64\n",
            " 4   LotArea        1460 non-null   int64  \n",
            " 5   Street         1460 non-null   object \n",
            " 6   Alley          91 non-null     object \n",
            " 7   LotShape       1460 non-null   object \n",
            " 8   LandContour    1460 non-null   object \n",
            " 9   Utilities      1460 non-null   object \n",
            " 10  LotConfig      1460 non-null   object \n",
            " 11  LandSlope      1460 non-null   object \n",
            " 12  Neighborhood   1460 non-null   object \n",
            " 13  Condition1     1460 non-null   object \n",
            " 14  Condition2     1460 non-null   object \n",
            " 15  BldgType       1460 non-null   object \n",
            " 16  HouseStyle     1460 non-null   object \n",
            " 17  OverallQual    1460 non-null   int64  \n",
            " 18  OverallCond    1460 non-null   int64  \n",
            " 19  YearBuilt      1460 non-null   int64  \n",
            " 20  YearRemodAdd   1460 non-null   int64  \n",
            " 21  RoofStyle      1460 non-null   object \n",
            " 22  RoofMatl       1460 non-null   object \n",
            " 23  Exterior1st    1460 non-null   object \n",
            " 24  Exterior2nd    1460 non-null   object \n",
            " 25  MasVnrType     1452 non-null   object \n",
            " 26  MasVnrArea     1452 non-null   float64\n",
            " 27  ExterQual      1460 non-null   object \n",
            " 28  ExterCond      1460 non-null   object \n",
            " 29  Foundation     1460 non-null   object \n",
            " 30  BsmtQual       1423 non-null   object \n",
            " 31  BsmtCond       1423 non-null   object \n",
            " 32  BsmtExposure   1422 non-null   object \n",
            " 33  BsmtFinType1   1423 non-null   object \n",
            " 34  BsmtFinSF1     1460 non-null   int64  \n",
            " 35  BsmtFinType2   1422 non-null   object \n",
            " 36  BsmtFinSF2     1460 non-null   int64  \n",
            " 37  BsmtUnfSF      1460 non-null   int64  \n",
            " 38  TotalBsmtSF    1460 non-null   int64  \n",
            " 39  Heating        1460 non-null   object \n",
            " 40  HeatingQC      1460 non-null   object \n",
            " 41  CentralAir     1460 non-null   object \n",
            " 42  Electrical     1459 non-null   object \n",
            " 43  1stFlrSF       1460 non-null   int64  \n",
            " 44  2ndFlrSF       1460 non-null   int64  \n",
            " 45  LowQualFinSF   1460 non-null   int64  \n",
            " 46  GrLivArea      1460 non-null   int64  \n",
            " 47  BsmtFullBath   1460 non-null   int64  \n",
            " 48  BsmtHalfBath   1460 non-null   int64  \n",
            " 49  FullBath       1460 non-null   int64  \n",
            " 50  HalfBath       1460 non-null   int64  \n",
            " 51  BedroomAbvGr   1460 non-null   int64  \n",
            " 52  KitchenAbvGr   1460 non-null   int64  \n",
            " 53  KitchenQual    1460 non-null   object \n",
            " 54  TotRmsAbvGrd   1460 non-null   int64  \n",
            " 55  Functional     1460 non-null   object \n",
            " 56  Fireplaces     1460 non-null   int64  \n",
            " 57  FireplaceQu    770 non-null    object \n",
            " 58  GarageType     1379 non-null   object \n",
            " 59  GarageYrBlt    1379 non-null   float64\n",
            " 60  GarageFinish   1379 non-null   object \n",
            " 61  GarageCars     1460 non-null   int64  \n",
            " 62  GarageArea     1460 non-null   int64  \n",
            " 63  GarageQual     1379 non-null   object \n",
            " 64  GarageCond     1379 non-null   object \n",
            " 65  PavedDrive     1460 non-null   object \n",
            " 66  WoodDeckSF     1460 non-null   int64  \n",
            " 67  OpenPorchSF    1460 non-null   int64  \n",
            " 68  EnclosedPorch  1460 non-null   int64  \n",
            " 69  3SsnPorch      1460 non-null   int64  \n",
            " 70  ScreenPorch    1460 non-null   int64  \n",
            " 71  PoolArea       1460 non-null   int64  \n",
            " 72  PoolQC         7 non-null      object \n",
            " 73  Fence          281 non-null    object \n",
            " 74  MiscFeature    54 non-null     object \n",
            " 75  MiscVal        1460 non-null   int64  \n",
            " 76  MoSold         1460 non-null   int64  \n",
            " 77  YrSold         1460 non-null   int64  \n",
            " 78  SaleType       1460 non-null   object \n",
            " 79  SaleCondition  1460 non-null   object \n",
            " 80  SalePrice      1460 non-null   int64  \n",
            "dtypes: float64(3), int64(35), object(43)\n",
            "memory usage: 924.0+ KB\n"
          ]
        }
      ]
    },
    {
      "cell_type": "markdown",
      "metadata": {
        "id": "P_ILam1dmZmj"
      },
      "source": [
        "### numeric_features\n"
      ]
    },
    {
      "cell_type": "code",
      "metadata": {
        "colab": {
          "base_uri": "https://localhost:8080/"
        },
        "id": "hrLgh1rM7rCe",
        "outputId": "0a381962-8597-4cc9-c2d6-9d22b170ac73"
      },
      "source": [
        "\n",
        "numeric_features = train_data.select_dtypes(include=[np.number])\n",
        "numeric_features.dtypes"
      ],
      "execution_count": 5,
      "outputs": [
        {
          "output_type": "execute_result",
          "data": {
            "text/plain": [
              "Id                 int64\n",
              "MSSubClass         int64\n",
              "LotFrontage      float64\n",
              "LotArea            int64\n",
              "OverallQual        int64\n",
              "OverallCond        int64\n",
              "YearBuilt          int64\n",
              "YearRemodAdd       int64\n",
              "MasVnrArea       float64\n",
              "BsmtFinSF1         int64\n",
              "BsmtFinSF2         int64\n",
              "BsmtUnfSF          int64\n",
              "TotalBsmtSF        int64\n",
              "1stFlrSF           int64\n",
              "2ndFlrSF           int64\n",
              "LowQualFinSF       int64\n",
              "GrLivArea          int64\n",
              "BsmtFullBath       int64\n",
              "BsmtHalfBath       int64\n",
              "FullBath           int64\n",
              "HalfBath           int64\n",
              "BedroomAbvGr       int64\n",
              "KitchenAbvGr       int64\n",
              "TotRmsAbvGrd       int64\n",
              "Fireplaces         int64\n",
              "GarageYrBlt      float64\n",
              "GarageCars         int64\n",
              "GarageArea         int64\n",
              "WoodDeckSF         int64\n",
              "OpenPorchSF        int64\n",
              "EnclosedPorch      int64\n",
              "3SsnPorch          int64\n",
              "ScreenPorch        int64\n",
              "PoolArea           int64\n",
              "MiscVal            int64\n",
              "MoSold             int64\n",
              "YrSold             int64\n",
              "SalePrice          int64\n",
              "dtype: object"
            ]
          },
          "metadata": {},
          "execution_count": 5
        }
      ]
    },
    {
      "cell_type": "markdown",
      "metadata": {
        "id": "h_vFO9qumgU6"
      },
      "source": [
        "### categoricals features"
      ]
    },
    {
      "cell_type": "code",
      "metadata": {
        "colab": {
          "base_uri": "https://localhost:8080/",
          "height": 1000
        },
        "id": "UV5-0J6oPT7N",
        "outputId": "610c0121-4fe2-40ab-ab3e-1f417e0097bc"
      },
      "source": [
        "categoricals = train_data.select_dtypes(exclude=[np.number])\n",
        "categoricals.describe().transpose()"
      ],
      "execution_count": 6,
      "outputs": [
        {
          "output_type": "execute_result",
          "data": {
            "text/html": [
              "<div>\n",
              "<style scoped>\n",
              "    .dataframe tbody tr th:only-of-type {\n",
              "        vertical-align: middle;\n",
              "    }\n",
              "\n",
              "    .dataframe tbody tr th {\n",
              "        vertical-align: top;\n",
              "    }\n",
              "\n",
              "    .dataframe thead th {\n",
              "        text-align: right;\n",
              "    }\n",
              "</style>\n",
              "<table border=\"1\" class=\"dataframe\">\n",
              "  <thead>\n",
              "    <tr style=\"text-align: right;\">\n",
              "      <th></th>\n",
              "      <th>count</th>\n",
              "      <th>unique</th>\n",
              "      <th>top</th>\n",
              "      <th>freq</th>\n",
              "    </tr>\n",
              "  </thead>\n",
              "  <tbody>\n",
              "    <tr>\n",
              "      <th>MSZoning</th>\n",
              "      <td>1460</td>\n",
              "      <td>5</td>\n",
              "      <td>RL</td>\n",
              "      <td>1151</td>\n",
              "    </tr>\n",
              "    <tr>\n",
              "      <th>Street</th>\n",
              "      <td>1460</td>\n",
              "      <td>2</td>\n",
              "      <td>Pave</td>\n",
              "      <td>1454</td>\n",
              "    </tr>\n",
              "    <tr>\n",
              "      <th>Alley</th>\n",
              "      <td>91</td>\n",
              "      <td>2</td>\n",
              "      <td>Grvl</td>\n",
              "      <td>50</td>\n",
              "    </tr>\n",
              "    <tr>\n",
              "      <th>LotShape</th>\n",
              "      <td>1460</td>\n",
              "      <td>4</td>\n",
              "      <td>Reg</td>\n",
              "      <td>925</td>\n",
              "    </tr>\n",
              "    <tr>\n",
              "      <th>LandContour</th>\n",
              "      <td>1460</td>\n",
              "      <td>4</td>\n",
              "      <td>Lvl</td>\n",
              "      <td>1311</td>\n",
              "    </tr>\n",
              "    <tr>\n",
              "      <th>Utilities</th>\n",
              "      <td>1460</td>\n",
              "      <td>2</td>\n",
              "      <td>AllPub</td>\n",
              "      <td>1459</td>\n",
              "    </tr>\n",
              "    <tr>\n",
              "      <th>LotConfig</th>\n",
              "      <td>1460</td>\n",
              "      <td>5</td>\n",
              "      <td>Inside</td>\n",
              "      <td>1052</td>\n",
              "    </tr>\n",
              "    <tr>\n",
              "      <th>LandSlope</th>\n",
              "      <td>1460</td>\n",
              "      <td>3</td>\n",
              "      <td>Gtl</td>\n",
              "      <td>1382</td>\n",
              "    </tr>\n",
              "    <tr>\n",
              "      <th>Neighborhood</th>\n",
              "      <td>1460</td>\n",
              "      <td>25</td>\n",
              "      <td>NAmes</td>\n",
              "      <td>225</td>\n",
              "    </tr>\n",
              "    <tr>\n",
              "      <th>Condition1</th>\n",
              "      <td>1460</td>\n",
              "      <td>9</td>\n",
              "      <td>Norm</td>\n",
              "      <td>1260</td>\n",
              "    </tr>\n",
              "    <tr>\n",
              "      <th>Condition2</th>\n",
              "      <td>1460</td>\n",
              "      <td>8</td>\n",
              "      <td>Norm</td>\n",
              "      <td>1445</td>\n",
              "    </tr>\n",
              "    <tr>\n",
              "      <th>BldgType</th>\n",
              "      <td>1460</td>\n",
              "      <td>5</td>\n",
              "      <td>1Fam</td>\n",
              "      <td>1220</td>\n",
              "    </tr>\n",
              "    <tr>\n",
              "      <th>HouseStyle</th>\n",
              "      <td>1460</td>\n",
              "      <td>8</td>\n",
              "      <td>1Story</td>\n",
              "      <td>726</td>\n",
              "    </tr>\n",
              "    <tr>\n",
              "      <th>RoofStyle</th>\n",
              "      <td>1460</td>\n",
              "      <td>6</td>\n",
              "      <td>Gable</td>\n",
              "      <td>1141</td>\n",
              "    </tr>\n",
              "    <tr>\n",
              "      <th>RoofMatl</th>\n",
              "      <td>1460</td>\n",
              "      <td>8</td>\n",
              "      <td>CompShg</td>\n",
              "      <td>1434</td>\n",
              "    </tr>\n",
              "    <tr>\n",
              "      <th>Exterior1st</th>\n",
              "      <td>1460</td>\n",
              "      <td>15</td>\n",
              "      <td>VinylSd</td>\n",
              "      <td>515</td>\n",
              "    </tr>\n",
              "    <tr>\n",
              "      <th>Exterior2nd</th>\n",
              "      <td>1460</td>\n",
              "      <td>16</td>\n",
              "      <td>VinylSd</td>\n",
              "      <td>504</td>\n",
              "    </tr>\n",
              "    <tr>\n",
              "      <th>MasVnrType</th>\n",
              "      <td>1452</td>\n",
              "      <td>4</td>\n",
              "      <td>None</td>\n",
              "      <td>864</td>\n",
              "    </tr>\n",
              "    <tr>\n",
              "      <th>ExterQual</th>\n",
              "      <td>1460</td>\n",
              "      <td>4</td>\n",
              "      <td>TA</td>\n",
              "      <td>906</td>\n",
              "    </tr>\n",
              "    <tr>\n",
              "      <th>ExterCond</th>\n",
              "      <td>1460</td>\n",
              "      <td>5</td>\n",
              "      <td>TA</td>\n",
              "      <td>1282</td>\n",
              "    </tr>\n",
              "    <tr>\n",
              "      <th>Foundation</th>\n",
              "      <td>1460</td>\n",
              "      <td>6</td>\n",
              "      <td>PConc</td>\n",
              "      <td>647</td>\n",
              "    </tr>\n",
              "    <tr>\n",
              "      <th>BsmtQual</th>\n",
              "      <td>1423</td>\n",
              "      <td>4</td>\n",
              "      <td>TA</td>\n",
              "      <td>649</td>\n",
              "    </tr>\n",
              "    <tr>\n",
              "      <th>BsmtCond</th>\n",
              "      <td>1423</td>\n",
              "      <td>4</td>\n",
              "      <td>TA</td>\n",
              "      <td>1311</td>\n",
              "    </tr>\n",
              "    <tr>\n",
              "      <th>BsmtExposure</th>\n",
              "      <td>1422</td>\n",
              "      <td>4</td>\n",
              "      <td>No</td>\n",
              "      <td>953</td>\n",
              "    </tr>\n",
              "    <tr>\n",
              "      <th>BsmtFinType1</th>\n",
              "      <td>1423</td>\n",
              "      <td>6</td>\n",
              "      <td>Unf</td>\n",
              "      <td>430</td>\n",
              "    </tr>\n",
              "    <tr>\n",
              "      <th>BsmtFinType2</th>\n",
              "      <td>1422</td>\n",
              "      <td>6</td>\n",
              "      <td>Unf</td>\n",
              "      <td>1256</td>\n",
              "    </tr>\n",
              "    <tr>\n",
              "      <th>Heating</th>\n",
              "      <td>1460</td>\n",
              "      <td>6</td>\n",
              "      <td>GasA</td>\n",
              "      <td>1428</td>\n",
              "    </tr>\n",
              "    <tr>\n",
              "      <th>HeatingQC</th>\n",
              "      <td>1460</td>\n",
              "      <td>5</td>\n",
              "      <td>Ex</td>\n",
              "      <td>741</td>\n",
              "    </tr>\n",
              "    <tr>\n",
              "      <th>CentralAir</th>\n",
              "      <td>1460</td>\n",
              "      <td>2</td>\n",
              "      <td>Y</td>\n",
              "      <td>1365</td>\n",
              "    </tr>\n",
              "    <tr>\n",
              "      <th>Electrical</th>\n",
              "      <td>1459</td>\n",
              "      <td>5</td>\n",
              "      <td>SBrkr</td>\n",
              "      <td>1334</td>\n",
              "    </tr>\n",
              "    <tr>\n",
              "      <th>KitchenQual</th>\n",
              "      <td>1460</td>\n",
              "      <td>4</td>\n",
              "      <td>TA</td>\n",
              "      <td>735</td>\n",
              "    </tr>\n",
              "    <tr>\n",
              "      <th>Functional</th>\n",
              "      <td>1460</td>\n",
              "      <td>7</td>\n",
              "      <td>Typ</td>\n",
              "      <td>1360</td>\n",
              "    </tr>\n",
              "    <tr>\n",
              "      <th>FireplaceQu</th>\n",
              "      <td>770</td>\n",
              "      <td>5</td>\n",
              "      <td>Gd</td>\n",
              "      <td>380</td>\n",
              "    </tr>\n",
              "    <tr>\n",
              "      <th>GarageType</th>\n",
              "      <td>1379</td>\n",
              "      <td>6</td>\n",
              "      <td>Attchd</td>\n",
              "      <td>870</td>\n",
              "    </tr>\n",
              "    <tr>\n",
              "      <th>GarageFinish</th>\n",
              "      <td>1379</td>\n",
              "      <td>3</td>\n",
              "      <td>Unf</td>\n",
              "      <td>605</td>\n",
              "    </tr>\n",
              "    <tr>\n",
              "      <th>GarageQual</th>\n",
              "      <td>1379</td>\n",
              "      <td>5</td>\n",
              "      <td>TA</td>\n",
              "      <td>1311</td>\n",
              "    </tr>\n",
              "    <tr>\n",
              "      <th>GarageCond</th>\n",
              "      <td>1379</td>\n",
              "      <td>5</td>\n",
              "      <td>TA</td>\n",
              "      <td>1326</td>\n",
              "    </tr>\n",
              "    <tr>\n",
              "      <th>PavedDrive</th>\n",
              "      <td>1460</td>\n",
              "      <td>3</td>\n",
              "      <td>Y</td>\n",
              "      <td>1340</td>\n",
              "    </tr>\n",
              "    <tr>\n",
              "      <th>PoolQC</th>\n",
              "      <td>7</td>\n",
              "      <td>3</td>\n",
              "      <td>Gd</td>\n",
              "      <td>3</td>\n",
              "    </tr>\n",
              "    <tr>\n",
              "      <th>Fence</th>\n",
              "      <td>281</td>\n",
              "      <td>4</td>\n",
              "      <td>MnPrv</td>\n",
              "      <td>157</td>\n",
              "    </tr>\n",
              "    <tr>\n",
              "      <th>MiscFeature</th>\n",
              "      <td>54</td>\n",
              "      <td>4</td>\n",
              "      <td>Shed</td>\n",
              "      <td>49</td>\n",
              "    </tr>\n",
              "    <tr>\n",
              "      <th>SaleType</th>\n",
              "      <td>1460</td>\n",
              "      <td>9</td>\n",
              "      <td>WD</td>\n",
              "      <td>1267</td>\n",
              "    </tr>\n",
              "    <tr>\n",
              "      <th>SaleCondition</th>\n",
              "      <td>1460</td>\n",
              "      <td>6</td>\n",
              "      <td>Normal</td>\n",
              "      <td>1198</td>\n",
              "    </tr>\n",
              "  </tbody>\n",
              "</table>\n",
              "</div>"
            ],
            "text/plain": [
              "              count unique      top  freq\n",
              "MSZoning       1460      5       RL  1151\n",
              "Street         1460      2     Pave  1454\n",
              "Alley            91      2     Grvl    50\n",
              "LotShape       1460      4      Reg   925\n",
              "LandContour    1460      4      Lvl  1311\n",
              "Utilities      1460      2   AllPub  1459\n",
              "LotConfig      1460      5   Inside  1052\n",
              "LandSlope      1460      3      Gtl  1382\n",
              "Neighborhood   1460     25    NAmes   225\n",
              "Condition1     1460      9     Norm  1260\n",
              "Condition2     1460      8     Norm  1445\n",
              "BldgType       1460      5     1Fam  1220\n",
              "HouseStyle     1460      8   1Story   726\n",
              "RoofStyle      1460      6    Gable  1141\n",
              "RoofMatl       1460      8  CompShg  1434\n",
              "Exterior1st    1460     15  VinylSd   515\n",
              "Exterior2nd    1460     16  VinylSd   504\n",
              "MasVnrType     1452      4     None   864\n",
              "ExterQual      1460      4       TA   906\n",
              "ExterCond      1460      5       TA  1282\n",
              "Foundation     1460      6    PConc   647\n",
              "BsmtQual       1423      4       TA   649\n",
              "BsmtCond       1423      4       TA  1311\n",
              "BsmtExposure   1422      4       No   953\n",
              "BsmtFinType1   1423      6      Unf   430\n",
              "BsmtFinType2   1422      6      Unf  1256\n",
              "Heating        1460      6     GasA  1428\n",
              "HeatingQC      1460      5       Ex   741\n",
              "CentralAir     1460      2        Y  1365\n",
              "Electrical     1459      5    SBrkr  1334\n",
              "KitchenQual    1460      4       TA   735\n",
              "Functional     1460      7      Typ  1360\n",
              "FireplaceQu     770      5       Gd   380\n",
              "GarageType     1379      6   Attchd   870\n",
              "GarageFinish   1379      3      Unf   605\n",
              "GarageQual     1379      5       TA  1311\n",
              "GarageCond     1379      5       TA  1326\n",
              "PavedDrive     1460      3        Y  1340\n",
              "PoolQC            7      3       Gd     3\n",
              "Fence           281      4    MnPrv   157\n",
              "MiscFeature      54      4     Shed    49\n",
              "SaleType       1460      9       WD  1267\n",
              "SaleCondition  1460      6   Normal  1198"
            ]
          },
          "metadata": {},
          "execution_count": 6
        }
      ]
    },
    {
      "cell_type": "markdown",
      "metadata": {
        "id": "dMEKaaHnmsKi"
      },
      "source": [
        "### 1-2  convert categoricals features to numeric-features\n"
      ]
    },
    {
      "cell_type": "code",
      "metadata": {
        "id": "gYt0xFLtTTEe"
      },
      "source": [
        "\n",
        "# condition_pivot = train_data.pivot_table(index='GarageType', values='SalePrice', aggfunc=np.median)\n",
        "# condition_pivot.plot(kind='bar', color='blue')\n",
        "# plt.xlabel('GarageType')\n",
        "# plt.ylabel('Median Sale Price')\n",
        "# plt.xticks(rotation=0)\n",
        "# plt.show()\n",
        "\n",
        "train_data = train_data.replace(['COD', 'CWD', 'Con', 'ConLD', 'ConLI', 'New', 'Oth', 'WD', 'ConLw'], [0, 1, 2, 3, 4, 5, 6, 7, 8]) #SaleType\n",
        "test_data = test_data.replace(['COD', 'CWD', 'Con', 'ConLD', 'ConLI', 'New', 'Oth', 'WD', 'ConLw'], [0, 1, 2, 3, 4, 5, 6, 7, 8]) #SaleType\n",
        "train_data = train_data.replace(['Abnorml', 'AdjLand', 'Alloca', 'Family', 'Normal', 'Partial'], [0, 1, 2, 3, 4, 5]) #SaleCondition\n",
        "test_data = test_data.replace(['Abnorml', 'AdjLand', 'Alloca', 'Family', 'Normal', 'Partial'], [0, 1, 2, 3, 4, 5]) #SaleCondition\n",
        "train_data = train_data.replace(['C (all)', 'FV', 'RH', 'RL', 'RM'], [0, 1, 2, 3, 4]) #MSZoning\n",
        "test_data = test_data.replace(['C (all)', 'FV', 'RH', 'RL', 'RM'], [0, 1, 2, 3, 4]) #MSZoning\n",
        "train_data = train_data.replace(['Grvl', 'Pave'], [0, 1]) # Alley, street\n",
        "test_data = test_data.replace(['Grvl', 'Pave'], [0, 1]) # Alley, street\n",
        "train_data = train_data.replace(['BrkCmn', 'BrkFace', 'CBlock', 'Stone', 'None'], [0, 1, 2, 3, 4]) # MasVnrType\n",
        "test_data = test_data.replace(['BrkCmn', 'BrkFace', 'CBlock', 'Stone', 'None'], [0, 1, 2, 3, 4]) # MasVnrType\n",
        "train_data = train_data.replace(['Ex', 'Fa', 'Gd', 'Po', 'TA'], [0, 1, 2, 3, 4]) # HeatingQC\n",
        "test_data = test_data.replace(['Ex', 'Fa', 'Gd', 'Po', 'TA'], [0, 1, 2, 3, 4]) # HeatingQC\n",
        "\n",
        "# print (train_data.Street.value_counts())\n"
      ],
      "execution_count": 7,
      "outputs": []
    },
    {
      "cell_type": "markdown",
      "metadata": {
        "id": "D2xB_RvMm2Ur"
      },
      "source": [
        "### 1-3- calculate correlation between numerical features and labels\n"
      ]
    },
    {
      "cell_type": "code",
      "metadata": {
        "colab": {
          "base_uri": "https://localhost:8080/"
        },
        "id": "EpACMWaM0we7",
        "outputId": "8f116f97-6e68-4f04-db28-6dcbe4b96bb9"
      },
      "source": [
        "numeric_features = train_data.select_dtypes(include=[np.number])\n",
        "corr = numeric_features.corr()\n",
        "corr['SalePrice'].sort_values(ascending=False)\n"
      ],
      "execution_count": 8,
      "outputs": [
        {
          "output_type": "execute_result",
          "data": {
            "text/plain": [
              "SalePrice        1.000000\n",
              "OverallQual      0.790982\n",
              "GrLivArea        0.708624\n",
              "GarageCars       0.640409\n",
              "GarageArea       0.623431\n",
              "TotalBsmtSF      0.613581\n",
              "1stFlrSF         0.605852\n",
              "FullBath         0.560664\n",
              "Alley            0.534319\n",
              "TotRmsAbvGrd     0.533723\n",
              "YearBuilt        0.522897\n",
              "YearRemodAdd     0.507101\n",
              "GarageYrBlt      0.486362\n",
              "MasVnrArea       0.477493\n",
              "Fireplaces       0.466929\n",
              "BsmtFinSF1       0.386420\n",
              "LotFrontage      0.351799\n",
              "WoodDeckSF       0.324413\n",
              "2ndFlrSF         0.319334\n",
              "OpenPorchSF      0.315856\n",
              "HalfBath         0.284108\n",
              "LotArea          0.263843\n",
              "BsmtFullBath     0.227122\n",
              "BsmtUnfSF        0.214479\n",
              "SaleCondition    0.213092\n",
              "BedroomAbvGr     0.168213\n",
              "GarageCond       0.150576\n",
              "ExterCond        0.117303\n",
              "GarageQual       0.115119\n",
              "ScreenPorch      0.111447\n",
              "PoolArea         0.092404\n",
              "BsmtCond         0.060362\n",
              "MoSold           0.046432\n",
              "3SsnPorch        0.044584\n",
              "Street           0.041036\n",
              "BsmtFinSF2      -0.011378\n",
              "BsmtHalfBath    -0.016844\n",
              "MiscVal         -0.021190\n",
              "Id              -0.021917\n",
              "LowQualFinSF    -0.025606\n",
              "YrSold          -0.028923\n",
              "SaleType        -0.077132\n",
              "OverallCond     -0.077856\n",
              "MSSubClass      -0.084284\n",
              "EnclosedPorch   -0.128578\n",
              "KitchenAbvGr    -0.135907\n",
              "FireplaceQu     -0.166817\n",
              "MSZoning        -0.166872\n",
              "MasVnrType      -0.257435\n",
              "HeatingQC       -0.400178\n",
              "KitchenQual     -0.591175\n",
              "PoolQC          -0.595229\n",
              "BsmtQual        -0.596804\n",
              "ExterQual       -0.641178\n",
              "Name: SalePrice, dtype: float64"
            ]
          },
          "metadata": {},
          "execution_count": 8
        }
      ]
    },
    {
      "cell_type": "markdown",
      "metadata": {
        "id": "CKZvmg6rnGRr"
      },
      "source": [
        "### 1-4- selected features\n"
      ]
    },
    {
      "cell_type": "code",
      "metadata": {
        "colab": {
          "base_uri": "https://localhost:8080/"
        },
        "id": "S7xxFniFN7kj",
        "outputId": "97416061-218e-4d7f-ca77-de5c74bb7055"
      },
      "source": [
        "\n",
        "X_train = train_data[['OverallQual', 'GrLivArea', 'GarageCars', \n",
        "                      'GarageArea', 'TotalBsmtSF', '1stFlrSF', 'FullBath',\n",
        "                      'Alley', 'TotRmsAbvGrd', 'YearBuilt',\n",
        "                      'YearRemodAdd', 'GarageYrBlt', 'MasVnrArea',\n",
        "                      'Fireplaces', 'BsmtFinSF1',       \n",
        "                      'LotFrontage', 'WoodDeckSF', '2ndFlrSF',\n",
        "                      'OpenPorchSF', 'HalfBath', 'LotArea', \n",
        "                      'BsmtFullBath', 'BsmtUnfSF', 'SaleCondition',       \n",
        "                      'BedroomAbvGr', 'GarageCond', 'ExterCond',\n",
        "                      'GarageQual','ScreenPorch', ]]  \n",
        "Y_train = train_data[['SalePrice']]\n",
        "Y_train = np.log(Y_train)\n",
        "\n",
        "X_test = test_data[['OverallQual', 'GrLivArea', 'GarageCars', \n",
        "                      'GarageArea', 'TotalBsmtSF', '1stFlrSF', 'FullBath',\n",
        "                      'Alley', 'TotRmsAbvGrd', 'YearBuilt',\n",
        "                      'YearRemodAdd', 'GarageYrBlt', 'MasVnrArea',\n",
        "                      'Fireplaces', 'BsmtFinSF1',       \n",
        "                      'LotFrontage', 'WoodDeckSF', '2ndFlrSF',\n",
        "                      'OpenPorchSF', 'HalfBath', 'LotArea', \n",
        "                      'BsmtFullBath', 'BsmtUnfSF', 'SaleCondition',       \n",
        "                      'BedroomAbvGr', 'GarageCond', 'ExterCond',\n",
        "                      'GarageQual','ScreenPorch', ]]   \n",
        "\n",
        "Y_test = pd.read_csv('data/sample_submission.csv')\n",
        "Y_test = Y_test[['SalePrice']]\n",
        "Y_test = np.log(Y_test)\n",
        "\n",
        "print(X_test.shape, Y_test.shape)\n",
        "print(X_train.shape, Y_train.shape)"
      ],
      "execution_count": 9,
      "outputs": [
        {
          "output_type": "stream",
          "name": "stdout",
          "text": [
            "(1459, 29) (1459, 1)\n",
            "(1460, 29) (1460, 1)\n"
          ]
        }
      ]
    },
    {
      "cell_type": "markdown",
      "metadata": {
        "id": "m0r7chZrnK00"
      },
      "source": [
        "### null columns in X_train\n"
      ]
    },
    {
      "cell_type": "code",
      "metadata": {
        "colab": {
          "base_uri": "https://localhost:8080/",
          "height": 390
        },
        "id": "ZFBuSd7nFT4m",
        "outputId": "a52c46bd-837e-4706-cc46-a6c662c7ce27"
      },
      "source": [
        "\n",
        "nulls = pd.DataFrame(X_train.isnull().sum().sort_values(ascending=False)[:10])\n",
        "nulls.columns = ['Null Count']\n",
        "nulls.index.name = 'Feature'\n",
        "nulls"
      ],
      "execution_count": 10,
      "outputs": [
        {
          "output_type": "execute_result",
          "data": {
            "text/html": [
              "<div>\n",
              "<style scoped>\n",
              "    .dataframe tbody tr th:only-of-type {\n",
              "        vertical-align: middle;\n",
              "    }\n",
              "\n",
              "    .dataframe tbody tr th {\n",
              "        vertical-align: top;\n",
              "    }\n",
              "\n",
              "    .dataframe thead th {\n",
              "        text-align: right;\n",
              "    }\n",
              "</style>\n",
              "<table border=\"1\" class=\"dataframe\">\n",
              "  <thead>\n",
              "    <tr style=\"text-align: right;\">\n",
              "      <th></th>\n",
              "      <th>Null Count</th>\n",
              "    </tr>\n",
              "    <tr>\n",
              "      <th>Feature</th>\n",
              "      <th></th>\n",
              "    </tr>\n",
              "  </thead>\n",
              "  <tbody>\n",
              "    <tr>\n",
              "      <th>Alley</th>\n",
              "      <td>1369</td>\n",
              "    </tr>\n",
              "    <tr>\n",
              "      <th>LotFrontage</th>\n",
              "      <td>259</td>\n",
              "    </tr>\n",
              "    <tr>\n",
              "      <th>GarageCond</th>\n",
              "      <td>81</td>\n",
              "    </tr>\n",
              "    <tr>\n",
              "      <th>GarageQual</th>\n",
              "      <td>81</td>\n",
              "    </tr>\n",
              "    <tr>\n",
              "      <th>GarageYrBlt</th>\n",
              "      <td>81</td>\n",
              "    </tr>\n",
              "    <tr>\n",
              "      <th>MasVnrArea</th>\n",
              "      <td>8</td>\n",
              "    </tr>\n",
              "    <tr>\n",
              "      <th>ScreenPorch</th>\n",
              "      <td>0</td>\n",
              "    </tr>\n",
              "    <tr>\n",
              "      <th>GrLivArea</th>\n",
              "      <td>0</td>\n",
              "    </tr>\n",
              "    <tr>\n",
              "      <th>GarageCars</th>\n",
              "      <td>0</td>\n",
              "    </tr>\n",
              "    <tr>\n",
              "      <th>GarageArea</th>\n",
              "      <td>0</td>\n",
              "    </tr>\n",
              "  </tbody>\n",
              "</table>\n",
              "</div>"
            ],
            "text/plain": [
              "             Null Count\n",
              "Feature                \n",
              "Alley              1369\n",
              "LotFrontage         259\n",
              "GarageCond           81\n",
              "GarageQual           81\n",
              "GarageYrBlt          81\n",
              "MasVnrArea            8\n",
              "ScreenPorch           0\n",
              "GrLivArea             0\n",
              "GarageCars            0\n",
              "GarageArea            0"
            ]
          },
          "metadata": {},
          "execution_count": 10
        }
      ]
    },
    {
      "cell_type": "markdown",
      "metadata": {
        "id": "GuWlA9lhnPmg"
      },
      "source": [
        "### null columns in X_test\n"
      ]
    },
    {
      "cell_type": "code",
      "metadata": {
        "colab": {
          "base_uri": "https://localhost:8080/",
          "height": 390
        },
        "id": "s2C_X_VaMu_Y",
        "outputId": "8aa5792d-d721-476a-85a3-3800143d1949"
      },
      "source": [
        "\n",
        "nulls = pd.DataFrame(X_test.isnull().sum().sort_values(ascending=False)[:10])\n",
        "nulls.columns = ['Null Count']\n",
        "nulls.index.name = 'Feature'\n",
        "nulls"
      ],
      "execution_count": 11,
      "outputs": [
        {
          "output_type": "execute_result",
          "data": {
            "text/html": [
              "<div>\n",
              "<style scoped>\n",
              "    .dataframe tbody tr th:only-of-type {\n",
              "        vertical-align: middle;\n",
              "    }\n",
              "\n",
              "    .dataframe tbody tr th {\n",
              "        vertical-align: top;\n",
              "    }\n",
              "\n",
              "    .dataframe thead th {\n",
              "        text-align: right;\n",
              "    }\n",
              "</style>\n",
              "<table border=\"1\" class=\"dataframe\">\n",
              "  <thead>\n",
              "    <tr style=\"text-align: right;\">\n",
              "      <th></th>\n",
              "      <th>Null Count</th>\n",
              "    </tr>\n",
              "    <tr>\n",
              "      <th>Feature</th>\n",
              "      <th></th>\n",
              "    </tr>\n",
              "  </thead>\n",
              "  <tbody>\n",
              "    <tr>\n",
              "      <th>Alley</th>\n",
              "      <td>1352</td>\n",
              "    </tr>\n",
              "    <tr>\n",
              "      <th>LotFrontage</th>\n",
              "      <td>227</td>\n",
              "    </tr>\n",
              "    <tr>\n",
              "      <th>GarageYrBlt</th>\n",
              "      <td>78</td>\n",
              "    </tr>\n",
              "    <tr>\n",
              "      <th>GarageCond</th>\n",
              "      <td>78</td>\n",
              "    </tr>\n",
              "    <tr>\n",
              "      <th>GarageQual</th>\n",
              "      <td>78</td>\n",
              "    </tr>\n",
              "    <tr>\n",
              "      <th>MasVnrArea</th>\n",
              "      <td>15</td>\n",
              "    </tr>\n",
              "    <tr>\n",
              "      <th>BsmtFullBath</th>\n",
              "      <td>2</td>\n",
              "    </tr>\n",
              "    <tr>\n",
              "      <th>TotalBsmtSF</th>\n",
              "      <td>1</td>\n",
              "    </tr>\n",
              "    <tr>\n",
              "      <th>BsmtFinSF1</th>\n",
              "      <td>1</td>\n",
              "    </tr>\n",
              "    <tr>\n",
              "      <th>BsmtUnfSF</th>\n",
              "      <td>1</td>\n",
              "    </tr>\n",
              "  </tbody>\n",
              "</table>\n",
              "</div>"
            ],
            "text/plain": [
              "              Null Count\n",
              "Feature                 \n",
              "Alley               1352\n",
              "LotFrontage          227\n",
              "GarageYrBlt           78\n",
              "GarageCond            78\n",
              "GarageQual            78\n",
              "MasVnrArea            15\n",
              "BsmtFullBath           2\n",
              "TotalBsmtSF            1\n",
              "BsmtFinSF1             1\n",
              "BsmtUnfSF              1"
            ]
          },
          "metadata": {},
          "execution_count": 11
        }
      ]
    },
    {
      "cell_type": "markdown",
      "metadata": {
        "id": "ScTiMyO4nTk3"
      },
      "source": [
        "### 1-5- fill null columns\n"
      ]
    },
    {
      "cell_type": "code",
      "metadata": {
        "id": "6ykh4JIhIHZv"
      },
      "source": [
        "\n",
        "X_train['Alley'] = X_train['Alley'].fillna(2)\n",
        "X_train['LotFrontage'] = X_train['Alley'].fillna(np.round(np.mean(X_train['LotFrontage']), 0))\n",
        "X_train['GarageCond'] = X_train['GarageCond'].fillna(5)\n",
        "X_train['GarageQual'] = X_train['GarageQual'].fillna(5)\n",
        "X_train['GarageYrBlt'] = X_train['GarageYrBlt'].fillna(np.round(np.mean(X_train['GarageYrBlt']), 0))\n",
        "X_train['MasVnrArea'] = X_train['MasVnrArea'].fillna(np.round(np.mean(X_train['MasVnrArea']), 0))\n",
        "\n",
        "X_test['Alley'] = X_test['Alley'].fillna(2)\n",
        "X_test['LotFrontage'] = X_test['Alley'].fillna(np.round(np.mean(X_test['LotFrontage']), 0))\n",
        "X_test['GarageCond'] = X_test['GarageCond'].fillna(5)\n",
        "X_test['GarageQual'] = X_test['GarageQual'].fillna(5)\n",
        "X_test['GarageYrBlt'] = X_test['GarageYrBlt'].fillna(np.round(np.mean(X_test['GarageYrBlt']), 0))\n",
        "X_test['MasVnrArea'] = X_test['MasVnrArea'].fillna(np.round(np.mean(X_test['MasVnrArea']), 0))\n",
        "X_test['BsmtFullBath'] = X_test['BsmtFullBath'].fillna(4)\n",
        "X_test['BsmtFinSF1'] = X_test['BsmtFinSF1'].fillna(np.round(np.mean(X_test['BsmtFinSF1']), 0))\n",
        "X_test['TotalBsmtSF'] = X_test['TotalBsmtSF'].fillna(np.round(np.mean(X_test['TotalBsmtSF']), 0))\n",
        "X_test['BsmtUnfSF'] = X_test['BsmtUnfSF'].fillna(np.round(np.mean(X_test['BsmtUnfSF']), 0))\n",
        "X_test['GarageArea'] = X_test['GarageArea'].fillna(np.round(np.mean(X_test['GarageArea']), 0))\n",
        "X_test['GarageCars'] = X_test['GarageCars'].fillna(5)\n"
      ],
      "execution_count": null,
      "outputs": []
    },
    {
      "cell_type": "code",
      "metadata": {
        "colab": {
          "base_uri": "https://localhost:8080/"
        },
        "id": "PuWI6ZjiLidt",
        "outputId": "8cb21f70-c5fa-47ca-ab71-e527965c3730"
      },
      "source": [
        "X_train = np.array(X_train)\n",
        "Y_train = np.array(Y_train)\n",
        "X_test = np.array(X_test)\n",
        "Y_test = np.array(Y_test)\n",
        "print(X_train.shape, Y_train.shape, X_test.shape, Y_test.shape)"
      ],
      "execution_count": 13,
      "outputs": [
        {
          "output_type": "stream",
          "name": "stdout",
          "text": [
            "(1460, 29) (1460, 1) (1459, 29) (1459, 1)\n"
          ]
        }
      ]
    },
    {
      "cell_type": "code",
      "metadata": {
        "id": "LAdPPMp1zPyY"
      },
      "source": [
        "from sklearn.model_selection import train_test_split\n",
        "\n",
        "X_train, X_val, Y_train, Y_val = train_test_split(X_train, Y_train, test_size=0.2, random_state=42)"
      ],
      "execution_count": null,
      "outputs": []
    },
    {
      "cell_type": "code",
      "metadata": {
        "id": "eAJ74uv1H9YG"
      },
      "source": [
        "wandb.init(project='MLP-House Prices', entity='nahid-ebrahimian')"
      ],
      "execution_count": null,
      "outputs": []
    },
    {
      "cell_type": "markdown",
      "metadata": {
        "id": "rWVIj71DzDue"
      },
      "source": [
        "### creat model and ttraining"
      ]
    },
    {
      "cell_type": "code",
      "metadata": {
        "id": "M82F241fOh4C"
      },
      "source": [
        "model = tf.keras.models.Sequential([\n",
        "                        tf.keras.layers.Dense(29, input_dim = 29, activation='relu'),\n",
        "                        tf.keras.layers.Dense(64, activation='relu'),\n",
        "                        tf.keras.layers.Dense(128, activation='relu'),\n",
        "                        tf.keras.layers.Dense(256, activation='relu'),\n",
        "                        tf.keras.layers.Dense(512, activation='relu'), \n",
        "                        tf.keras.layers.Dense(1, activation='linear')\n",
        "                                    ])"
      ],
      "execution_count": 76,
      "outputs": []
    },
    {
      "cell_type": "code",
      "metadata": {
        "id": "hl3kDagbOo1w"
      },
      "source": [
        "config = wandb.config\n",
        "config.learning_rate = 0.001\n",
        "\n",
        "# model.compile(optimizer=tf.keras.optimizers.Adam(learning_rate=config.learning_rate),\n",
        "#               loss=tf.keras.losses.MAE)\n",
        "\n",
        "model.compile(optimizer=tf.keras.optimizers.Adam(learning_rate=0.001),\n",
        "              loss=tf.keras.losses.MAE)\n"
      ],
      "execution_count": 77,
      "outputs": []
    },
    {
      "cell_type": "code",
      "metadata": {
        "id": "y9oKLwMYIkGL",
        "colab": {
          "base_uri": "https://localhost:8080/"
        },
        "outputId": "f0dd3e36-e6d3-4174-82aa-a75dc208cc0b"
      },
      "source": [
        "model.fit(X_train, Y_train, validation_data=(X_val, Y_val), epochs=100, \n",
        "callbacks=[WandbCallback()])"
      ],
      "execution_count": 78,
      "outputs": [
        {
          "output_type": "stream",
          "name": "stdout",
          "text": [
            "Epoch 1/100\n",
            "7/7 [==============================] - 1s 30ms/step - loss: 248.6100 - val_loss: 241.5672\n",
            "Epoch 2/100\n",
            "7/7 [==============================] - 0s 11ms/step - loss: 134.5993 - val_loss: 69.1400\n",
            "Epoch 3/100\n",
            "7/7 [==============================] - 0s 8ms/step - loss: 50.4622 - val_loss: 9.7500\n",
            "Epoch 4/100\n",
            "7/7 [==============================] - 0s 8ms/step - loss: 21.7747 - val_loss: 14.3642\n",
            "Epoch 5/100\n",
            "7/7 [==============================] - 0s 8ms/step - loss: 11.5073 - val_loss: 4.3586\n",
            "Epoch 6/100\n",
            "7/7 [==============================] - 0s 8ms/step - loss: 7.8026 - val_loss: 3.4445\n",
            "Epoch 7/100\n",
            "7/7 [==============================] - 0s 9ms/step - loss: 6.6741 - val_loss: 5.3413\n",
            "Epoch 8/100\n",
            "7/7 [==============================] - 0s 8ms/step - loss: 4.3300 - val_loss: 2.8115\n",
            "Epoch 9/100\n",
            "7/7 [==============================] - 0s 8ms/step - loss: 5.6389 - val_loss: 4.6570\n",
            "Epoch 10/100\n",
            "7/7 [==============================] - 0s 8ms/step - loss: 3.2911 - val_loss: 3.1941\n",
            "Epoch 11/100\n",
            "7/7 [==============================] - 0s 8ms/step - loss: 3.6663 - val_loss: 1.7328\n",
            "Epoch 12/100\n",
            "7/7 [==============================] - 0s 8ms/step - loss: 3.3375 - val_loss: 6.9048\n",
            "Epoch 13/100\n",
            "7/7 [==============================] - 0s 9ms/step - loss: 6.2342 - val_loss: 5.0515\n",
            "Epoch 14/100\n",
            "7/7 [==============================] - 0s 8ms/step - loss: 5.8973 - val_loss: 2.3102\n",
            "Epoch 15/100\n",
            "7/7 [==============================] - 0s 8ms/step - loss: 2.7917 - val_loss: 1.0762\n",
            "Epoch 16/100\n",
            "7/7 [==============================] - 0s 8ms/step - loss: 2.0125 - val_loss: 1.6776\n",
            "Epoch 17/100\n",
            "7/7 [==============================] - 0s 10ms/step - loss: 2.7009 - val_loss: 3.0156\n",
            "Epoch 18/100\n",
            "7/7 [==============================] - 0s 9ms/step - loss: 5.5662 - val_loss: 3.2902\n",
            "Epoch 19/100\n",
            "7/7 [==============================] - 0s 10ms/step - loss: 3.6128 - val_loss: 7.8180\n",
            "Epoch 20/100\n",
            "7/7 [==============================] - 0s 8ms/step - loss: 7.1777 - val_loss: 2.2112\n",
            "Epoch 21/100\n",
            "7/7 [==============================] - 0s 11ms/step - loss: 4.9049 - val_loss: 2.9071\n",
            "Epoch 22/100\n",
            "7/7 [==============================] - 0s 9ms/step - loss: 2.6982 - val_loss: 2.7867\n",
            "Epoch 23/100\n",
            "7/7 [==============================] - 0s 8ms/step - loss: 2.8590 - val_loss: 1.6863\n",
            "Epoch 24/100\n",
            "7/7 [==============================] - 0s 8ms/step - loss: 2.0819 - val_loss: 1.5972\n",
            "Epoch 25/100\n",
            "7/7 [==============================] - 0s 9ms/step - loss: 1.9950 - val_loss: 1.8404\n",
            "Epoch 26/100\n",
            "7/7 [==============================] - 0s 8ms/step - loss: 2.4409 - val_loss: 3.2729\n",
            "Epoch 27/100\n",
            "7/7 [==============================] - 0s 8ms/step - loss: 3.7239 - val_loss: 3.2826\n",
            "Epoch 28/100\n",
            "7/7 [==============================] - 0s 8ms/step - loss: 3.7948 - val_loss: 1.5035\n",
            "Epoch 29/100\n",
            "7/7 [==============================] - 0s 9ms/step - loss: 3.6734 - val_loss: 2.1078\n",
            "Epoch 30/100\n",
            "7/7 [==============================] - 0s 8ms/step - loss: 2.3526 - val_loss: 1.8402\n",
            "Epoch 31/100\n",
            "7/7 [==============================] - 0s 9ms/step - loss: 2.0599 - val_loss: 1.9431\n",
            "Epoch 32/100\n",
            "7/7 [==============================] - 0s 9ms/step - loss: 1.6858 - val_loss: 1.1884\n",
            "Epoch 33/100\n",
            "7/7 [==============================] - 0s 9ms/step - loss: 1.6603 - val_loss: 1.5674\n",
            "Epoch 34/100\n",
            "7/7 [==============================] - 0s 11ms/step - loss: 2.9313 - val_loss: 0.9221\n",
            "Epoch 35/100\n",
            "7/7 [==============================] - 0s 9ms/step - loss: 1.3022 - val_loss: 1.3271\n",
            "Epoch 36/100\n",
            "7/7 [==============================] - 0s 12ms/step - loss: 1.4960 - val_loss: 0.8482\n",
            "Epoch 37/100\n",
            "7/7 [==============================] - 0s 8ms/step - loss: 0.8336 - val_loss: 0.9715\n",
            "Epoch 38/100\n",
            "7/7 [==============================] - 0s 10ms/step - loss: 1.5121 - val_loss: 1.1575\n",
            "Epoch 39/100\n",
            "7/7 [==============================] - 0s 8ms/step - loss: 1.4775 - val_loss: 2.6387\n",
            "Epoch 40/100\n",
            "7/7 [==============================] - 0s 8ms/step - loss: 1.8458 - val_loss: 1.7499\n",
            "Epoch 41/100\n",
            "7/7 [==============================] - 0s 8ms/step - loss: 1.9716 - val_loss: 1.4369\n",
            "Epoch 42/100\n",
            "7/7 [==============================] - 0s 8ms/step - loss: 0.9167 - val_loss: 1.4752\n",
            "Epoch 43/100\n",
            "7/7 [==============================] - 0s 8ms/step - loss: 1.5166 - val_loss: 0.9566\n",
            "Epoch 44/100\n",
            "7/7 [==============================] - 0s 10ms/step - loss: 1.3154 - val_loss: 0.8264\n",
            "Epoch 45/100\n",
            "7/7 [==============================] - 0s 9ms/step - loss: 1.1829 - val_loss: 1.9307\n",
            "Epoch 46/100\n",
            "7/7 [==============================] - 0s 9ms/step - loss: 2.0501 - val_loss: 1.2019\n",
            "Epoch 47/100\n",
            "7/7 [==============================] - 0s 9ms/step - loss: 2.1334 - val_loss: 1.8485\n",
            "Epoch 48/100\n",
            "7/7 [==============================] - 0s 8ms/step - loss: 2.6934 - val_loss: 1.9905\n",
            "Epoch 49/100\n",
            "7/7 [==============================] - 0s 9ms/step - loss: 2.7415 - val_loss: 1.4523\n",
            "Epoch 50/100\n",
            "7/7 [==============================] - 0s 8ms/step - loss: 1.5850 - val_loss: 1.6386\n",
            "Epoch 51/100\n",
            "7/7 [==============================] - 0s 8ms/step - loss: 1.3463 - val_loss: 1.7315\n",
            "Epoch 52/100\n",
            "7/7 [==============================] - 0s 9ms/step - loss: 2.3462 - val_loss: 1.6388\n",
            "Epoch 53/100\n",
            "7/7 [==============================] - 0s 8ms/step - loss: 2.3619 - val_loss: 1.0289\n",
            "Epoch 54/100\n",
            "7/7 [==============================] - 0s 8ms/step - loss: 1.8109 - val_loss: 1.0381\n",
            "Epoch 55/100\n",
            "7/7 [==============================] - 0s 8ms/step - loss: 1.1164 - val_loss: 1.1656\n",
            "Epoch 56/100\n",
            "7/7 [==============================] - 0s 11ms/step - loss: 1.2839 - val_loss: 0.8526\n",
            "Epoch 57/100\n",
            "7/7 [==============================] - 0s 8ms/step - loss: 1.5262 - val_loss: 0.8524\n",
            "Epoch 58/100\n",
            "7/7 [==============================] - 0s 8ms/step - loss: 1.5046 - val_loss: 2.2992\n",
            "Epoch 59/100\n",
            "7/7 [==============================] - 0s 8ms/step - loss: 2.4325 - val_loss: 1.1872\n",
            "Epoch 60/100\n",
            "7/7 [==============================] - 0s 9ms/step - loss: 1.1921 - val_loss: 0.6087\n",
            "Epoch 61/100\n",
            "7/7 [==============================] - 0s 8ms/step - loss: 0.9751 - val_loss: 0.9765\n",
            "Epoch 62/100\n",
            "7/7 [==============================] - 0s 8ms/step - loss: 0.8993 - val_loss: 0.8397\n",
            "Epoch 63/100\n",
            "7/7 [==============================] - 0s 10ms/step - loss: 1.0914 - val_loss: 1.8356\n",
            "Epoch 64/100\n",
            "7/7 [==============================] - 0s 8ms/step - loss: 1.4446 - val_loss: 1.5280\n",
            "Epoch 65/100\n",
            "7/7 [==============================] - 0s 10ms/step - loss: 1.4698 - val_loss: 1.2372\n",
            "Epoch 66/100\n",
            "7/7 [==============================] - 0s 8ms/step - loss: 1.1910 - val_loss: 0.7217\n",
            "Epoch 67/100\n",
            "7/7 [==============================] - 0s 8ms/step - loss: 0.8962 - val_loss: 0.7310\n",
            "Epoch 68/100\n",
            "7/7 [==============================] - 0s 8ms/step - loss: 1.0314 - val_loss: 0.4962\n",
            "Epoch 69/100\n",
            "7/7 [==============================] - 0s 8ms/step - loss: 0.5932 - val_loss: 0.9254\n",
            "Epoch 70/100\n",
            "7/7 [==============================] - 0s 8ms/step - loss: 1.0799 - val_loss: 1.9112\n",
            "Epoch 71/100\n",
            "7/7 [==============================] - 0s 7ms/step - loss: 1.8790 - val_loss: 1.6158\n",
            "Epoch 72/100\n",
            "7/7 [==============================] - 0s 9ms/step - loss: 2.0248 - val_loss: 1.1985\n",
            "Epoch 73/100\n",
            "7/7 [==============================] - 0s 10ms/step - loss: 1.2477 - val_loss: 0.6047\n",
            "Epoch 74/100\n",
            "7/7 [==============================] - 0s 9ms/step - loss: 0.8599 - val_loss: 0.5871\n",
            "Epoch 75/100\n",
            "7/7 [==============================] - 0s 9ms/step - loss: 0.8437 - val_loss: 1.0111\n",
            "Epoch 76/100\n",
            "7/7 [==============================] - 0s 8ms/step - loss: 0.9437 - val_loss: 0.8744\n",
            "Epoch 77/100\n",
            "7/7 [==============================] - 0s 8ms/step - loss: 1.0817 - val_loss: 1.2932\n",
            "Epoch 78/100\n",
            "7/7 [==============================] - 0s 9ms/step - loss: 1.0508 - val_loss: 0.7727\n",
            "Epoch 79/100\n",
            "7/7 [==============================] - 0s 8ms/step - loss: 0.9804 - val_loss: 2.9709\n",
            "Epoch 80/100\n",
            "7/7 [==============================] - 0s 8ms/step - loss: 5.1120 - val_loss: 5.9709\n",
            "Epoch 81/100\n",
            "7/7 [==============================] - 0s 8ms/step - loss: 4.5155 - val_loss: 2.8649\n",
            "Epoch 82/100\n",
            "7/7 [==============================] - 0s 8ms/step - loss: 4.5892 - val_loss: 3.2592\n",
            "Epoch 83/100\n",
            "7/7 [==============================] - 0s 9ms/step - loss: 4.5143 - val_loss: 2.5343\n",
            "Epoch 84/100\n",
            "7/7 [==============================] - 0s 8ms/step - loss: 1.9438 - val_loss: 0.9355\n",
            "Epoch 85/100\n",
            "7/7 [==============================] - 0s 8ms/step - loss: 0.9322 - val_loss: 1.8401\n",
            "Epoch 86/100\n",
            "7/7 [==============================] - 0s 9ms/step - loss: 1.5665 - val_loss: 1.4743\n",
            "Epoch 87/100\n",
            "7/7 [==============================] - 0s 9ms/step - loss: 2.1388 - val_loss: 1.0861\n",
            "Epoch 88/100\n",
            "7/7 [==============================] - 0s 9ms/step - loss: 1.1882 - val_loss: 1.0010\n",
            "Epoch 89/100\n",
            "7/7 [==============================] - 0s 8ms/step - loss: 1.0818 - val_loss: 0.5805\n",
            "Epoch 90/100\n",
            "7/7 [==============================] - 0s 9ms/step - loss: 0.8107 - val_loss: 1.0723\n",
            "Epoch 91/100\n",
            "7/7 [==============================] - 0s 10ms/step - loss: 0.8847 - val_loss: 0.9247\n",
            "Epoch 92/100\n",
            "7/7 [==============================] - 0s 8ms/step - loss: 0.8586 - val_loss: 0.7066\n",
            "Epoch 93/100\n",
            "7/7 [==============================] - 0s 8ms/step - loss: 0.8319 - val_loss: 0.7944\n",
            "Epoch 94/100\n",
            "7/7 [==============================] - 0s 8ms/step - loss: 1.2582 - val_loss: 1.0451\n",
            "Epoch 95/100\n",
            "7/7 [==============================] - 0s 8ms/step - loss: 1.0446 - val_loss: 0.7923\n",
            "Epoch 96/100\n",
            "7/7 [==============================] - 0s 11ms/step - loss: 0.7822 - val_loss: 0.5176\n",
            "Epoch 97/100\n",
            "7/7 [==============================] - 0s 9ms/step - loss: 0.7016 - val_loss: 0.7653\n",
            "Epoch 98/100\n",
            "7/7 [==============================] - 0s 9ms/step - loss: 0.9362 - val_loss: 0.8684\n",
            "Epoch 99/100\n",
            "7/7 [==============================] - 0s 9ms/step - loss: 0.8534 - val_loss: 0.5571\n",
            "Epoch 100/100\n",
            "7/7 [==============================] - 0s 7ms/step - loss: 0.6614 - val_loss: 0.4911\n"
          ]
        },
        {
          "output_type": "execute_result",
          "data": {
            "text/plain": [
              "<keras.callbacks.History at 0x7fcb5adb1810>"
            ]
          },
          "metadata": {},
          "execution_count": 78
        }
      ]
    },
    {
      "cell_type": "code",
      "metadata": {
        "id": "y2VleK8tOoIB",
        "colab": {
          "base_uri": "https://localhost:8080/"
        },
        "outputId": "325a4059-4bb9-47b5-f858-f8bc3e7c98c9"
      },
      "source": [
        "loss = model.evaluate(X_test, Y_test)\n",
        "np.exp(loss)"
      ],
      "execution_count": 79,
      "outputs": [
        {
          "output_type": "stream",
          "name": "stdout",
          "text": [
            "46/46 [==============================] - 0s 2ms/step - loss: 0.6222\n"
          ]
        },
        {
          "output_type": "execute_result",
          "data": {
            "text/plain": [
              "1.863028759840387"
            ]
          },
          "metadata": {},
          "execution_count": 79
        }
      ]
    },
    {
      "cell_type": "code",
      "metadata": {
        "id": "qlCbKeFQiqb1"
      },
      "source": [
        ""
      ],
      "execution_count": 74,
      "outputs": []
    }
  ]
}