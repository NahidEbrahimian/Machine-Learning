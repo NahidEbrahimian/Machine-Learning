{
  "cells": [
    {
      "cell_type": "code",
      "execution_count": null,
      "metadata": {
        "id": "OJKiVooP7VQO"
      },
      "outputs": [],
      "source": [
        "!pip install wandb"
      ]
    },
    {
      "cell_type": "code",
      "execution_count": 2,
      "metadata": {
        "id": "5WgBV8ZxEprA"
      },
      "outputs": [],
      "source": [
        "import pandas as pd\n",
        "import numpy as np\n",
        "import tensorflow as tf\n",
        "import wandb\n",
        "import matplotlib.pyplot as plt\n",
        "from wandb.keras import WandbCallback"
      ]
    },
    {
      "cell_type": "code",
      "execution_count": 3,
      "metadata": {
        "colab": {
          "base_uri": "https://localhost:8080/"
        },
        "id": "xzMapUwrGET7",
        "outputId": "50b1cbc4-1d54-46a3-bc40-fe6cf1aa64b8"
      },
      "outputs": [
        {
          "name": "stdout",
          "output_type": "stream",
          "text": [
            "/content/drive/MyDrive/MachineLearning/MachineLearning10\n"
          ]
        }
      ],
      "source": [
        "cd /content/drive/MyDrive/MachineLearning/MachineLearning10"
      ]
    },
    {
      "cell_type": "markdown",
      "metadata": {
        "id": "9SLxdLBpk3iR"
      },
      "source": [
        "### 1- Load and preprocessing data"
      ]
    },
    {
      "cell_type": "code",
      "execution_count": 4,
      "metadata": {
        "colab": {
          "base_uri": "https://localhost:8080/"
        },
        "id": "wgnokX_qGKju",
        "outputId": "df951f3d-269d-4fc4-c1e7-3d0fe0e6992a"
      },
      "outputs": [
        {
          "name": "stdout",
          "output_type": "stream",
          "text": [
            "(1460, 81) (1459, 80)\n",
            "<class 'pandas.core.frame.DataFrame'>\n",
            "RangeIndex: 1460 entries, 0 to 1459\n",
            "Data columns (total 81 columns):\n",
            " #   Column         Non-Null Count  Dtype  \n",
            "---  ------         --------------  -----  \n",
            " 0   Id             1460 non-null   int64  \n",
            " 1   MSSubClass     1460 non-null   int64  \n",
            " 2   MSZoning       1460 non-null   object \n",
            " 3   LotFrontage    1201 non-null   float64\n",
            " 4   LotArea        1460 non-null   int64  \n",
            " 5   Street         1460 non-null   object \n",
            " 6   Alley          91 non-null     object \n",
            " 7   LotShape       1460 non-null   object \n",
            " 8   LandContour    1460 non-null   object \n",
            " 9   Utilities      1460 non-null   object \n",
            " 10  LotConfig      1460 non-null   object \n",
            " 11  LandSlope      1460 non-null   object \n",
            " 12  Neighborhood   1460 non-null   object \n",
            " 13  Condition1     1460 non-null   object \n",
            " 14  Condition2     1460 non-null   object \n",
            " 15  BldgType       1460 non-null   object \n",
            " 16  HouseStyle     1460 non-null   object \n",
            " 17  OverallQual    1460 non-null   int64  \n",
            " 18  OverallCond    1460 non-null   int64  \n",
            " 19  YearBuilt      1460 non-null   int64  \n",
            " 20  YearRemodAdd   1460 non-null   int64  \n",
            " 21  RoofStyle      1460 non-null   object \n",
            " 22  RoofMatl       1460 non-null   object \n",
            " 23  Exterior1st    1460 non-null   object \n",
            " 24  Exterior2nd    1460 non-null   object \n",
            " 25  MasVnrType     1452 non-null   object \n",
            " 26  MasVnrArea     1452 non-null   float64\n",
            " 27  ExterQual      1460 non-null   object \n",
            " 28  ExterCond      1460 non-null   object \n",
            " 29  Foundation     1460 non-null   object \n",
            " 30  BsmtQual       1423 non-null   object \n",
            " 31  BsmtCond       1423 non-null   object \n",
            " 32  BsmtExposure   1422 non-null   object \n",
            " 33  BsmtFinType1   1423 non-null   object \n",
            " 34  BsmtFinSF1     1460 non-null   int64  \n",
            " 35  BsmtFinType2   1422 non-null   object \n",
            " 36  BsmtFinSF2     1460 non-null   int64  \n",
            " 37  BsmtUnfSF      1460 non-null   int64  \n",
            " 38  TotalBsmtSF    1460 non-null   int64  \n",
            " 39  Heating        1460 non-null   object \n",
            " 40  HeatingQC      1460 non-null   object \n",
            " 41  CentralAir     1460 non-null   object \n",
            " 42  Electrical     1459 non-null   object \n",
            " 43  1stFlrSF       1460 non-null   int64  \n",
            " 44  2ndFlrSF       1460 non-null   int64  \n",
            " 45  LowQualFinSF   1460 non-null   int64  \n",
            " 46  GrLivArea      1460 non-null   int64  \n",
            " 47  BsmtFullBath   1460 non-null   int64  \n",
            " 48  BsmtHalfBath   1460 non-null   int64  \n",
            " 49  FullBath       1460 non-null   int64  \n",
            " 50  HalfBath       1460 non-null   int64  \n",
            " 51  BedroomAbvGr   1460 non-null   int64  \n",
            " 52  KitchenAbvGr   1460 non-null   int64  \n",
            " 53  KitchenQual    1460 non-null   object \n",
            " 54  TotRmsAbvGrd   1460 non-null   int64  \n",
            " 55  Functional     1460 non-null   object \n",
            " 56  Fireplaces     1460 non-null   int64  \n",
            " 57  FireplaceQu    770 non-null    object \n",
            " 58  GarageType     1379 non-null   object \n",
            " 59  GarageYrBlt    1379 non-null   float64\n",
            " 60  GarageFinish   1379 non-null   object \n",
            " 61  GarageCars     1460 non-null   int64  \n",
            " 62  GarageArea     1460 non-null   int64  \n",
            " 63  GarageQual     1379 non-null   object \n",
            " 64  GarageCond     1379 non-null   object \n",
            " 65  PavedDrive     1460 non-null   object \n",
            " 66  WoodDeckSF     1460 non-null   int64  \n",
            " 67  OpenPorchSF    1460 non-null   int64  \n",
            " 68  EnclosedPorch  1460 non-null   int64  \n",
            " 69  3SsnPorch      1460 non-null   int64  \n",
            " 70  ScreenPorch    1460 non-null   int64  \n",
            " 71  PoolArea       1460 non-null   int64  \n",
            " 72  PoolQC         7 non-null      object \n",
            " 73  Fence          281 non-null    object \n",
            " 74  MiscFeature    54 non-null     object \n",
            " 75  MiscVal        1460 non-null   int64  \n",
            " 76  MoSold         1460 non-null   int64  \n",
            " 77  YrSold         1460 non-null   int64  \n",
            " 78  SaleType       1460 non-null   object \n",
            " 79  SaleCondition  1460 non-null   object \n",
            " 80  SalePrice      1460 non-null   int64  \n",
            "dtypes: float64(3), int64(35), object(43)\n",
            "memory usage: 924.0+ KB\n"
          ]
        }
      ],
      "source": [
        "# load data\n",
        "\n",
        "train_data = pd.read_csv('data/train.csv')\n",
        "test_data = pd.read_csv('data/test.csv')\n",
        "print(train_data.shape, test_data.shape)\n",
        "train_data.info()"
      ]
    },
    {
      "cell_type": "markdown",
      "metadata": {
        "id": "P_ILam1dmZmj"
      },
      "source": [
        "### numeric_features\n"
      ]
    },
    {
      "cell_type": "code",
      "execution_count": null,
      "metadata": {
        "colab": {
          "base_uri": "https://localhost:8080/"
        },
        "id": "hrLgh1rM7rCe",
        "outputId": "0a381962-8597-4cc9-c2d6-9d22b170ac73"
      },
      "outputs": [],
      "source": [
        "\n",
        "numeric_features = train_data.select_dtypes(include=[np.number])\n",
        "numeric_features.dtypes"
      ]
    },
    {
      "cell_type": "markdown",
      "metadata": {
        "id": "h_vFO9qumgU6"
      },
      "source": [
        "### categoricals features"
      ]
    },
    {
      "cell_type": "code",
      "execution_count": null,
      "metadata": {
        "colab": {
          "base_uri": "https://localhost:8080/",
          "height": 1000
        },
        "id": "UV5-0J6oPT7N",
        "outputId": "610c0121-4fe2-40ab-ab3e-1f417e0097bc"
      },
      "outputs": [],
      "source": [
        "categoricals = train_data.select_dtypes(exclude=[np.number])\n",
        "categoricals.describe().transpose()"
      ]
    },
    {
      "cell_type": "markdown",
      "metadata": {
        "id": "dMEKaaHnmsKi"
      },
      "source": [
        "### 1-2  convert categoricals features to numeric-features\n"
      ]
    },
    {
      "cell_type": "code",
      "execution_count": 7,
      "metadata": {
        "id": "gYt0xFLtTTEe"
      },
      "outputs": [],
      "source": [
        "\n",
        "# condition_pivot = train_data.pivot_table(index='GarageType', values='SalePrice', aggfunc=np.median)\n",
        "# condition_pivot.plot(kind='bar', color='blue')\n",
        "# plt.xlabel('GarageType')\n",
        "# plt.ylabel('Median Sale Price')\n",
        "# plt.xticks(rotation=0)\n",
        "# plt.show()\n",
        "\n",
        "train_data = train_data.replace(['COD', 'CWD', 'Con', 'ConLD', 'ConLI', 'New', 'Oth', 'WD', 'ConLw'], [0, 1, 2, 3, 4, 5, 6, 7, 8]) #SaleType\n",
        "test_data = test_data.replace(['COD', 'CWD', 'Con', 'ConLD', 'ConLI', 'New', 'Oth', 'WD', 'ConLw'], [0, 1, 2, 3, 4, 5, 6, 7, 8]) #SaleType\n",
        "train_data = train_data.replace(['Abnorml', 'AdjLand', 'Alloca', 'Family', 'Normal', 'Partial'], [0, 1, 2, 3, 4, 5]) #SaleCondition\n",
        "test_data = test_data.replace(['Abnorml', 'AdjLand', 'Alloca', 'Family', 'Normal', 'Partial'], [0, 1, 2, 3, 4, 5]) #SaleCondition\n",
        "train_data = train_data.replace(['C (all)', 'FV', 'RH', 'RL', 'RM'], [0, 1, 2, 3, 4]) #MSZoning\n",
        "test_data = test_data.replace(['C (all)', 'FV', 'RH', 'RL', 'RM'], [0, 1, 2, 3, 4]) #MSZoning\n",
        "train_data = train_data.replace(['Grvl', 'Pave'], [0, 1]) # Alley, street\n",
        "test_data = test_data.replace(['Grvl', 'Pave'], [0, 1]) # Alley, street\n",
        "train_data = train_data.replace(['BrkCmn', 'BrkFace', 'CBlock', 'Stone', 'None'], [0, 1, 2, 3, 4]) # MasVnrType\n",
        "test_data = test_data.replace(['BrkCmn', 'BrkFace', 'CBlock', 'Stone', 'None'], [0, 1, 2, 3, 4]) # MasVnrType\n",
        "train_data = train_data.replace(['Ex', 'Fa', 'Gd', 'Po', 'TA'], [0, 1, 2, 3, 4]) # HeatingQC\n",
        "test_data = test_data.replace(['Ex', 'Fa', 'Gd', 'Po', 'TA'], [0, 1, 2, 3, 4]) # HeatingQC\n",
        "\n",
        "# print (train_data.Street.value_counts())\n"
      ]
    },
    {
      "cell_type": "markdown",
      "metadata": {
        "id": "D2xB_RvMm2Ur"
      },
      "source": [
        "### 1-3- calculate correlation between numerical features and labels\n"
      ]
    },
    {
      "cell_type": "code",
      "execution_count": null,
      "metadata": {
        "colab": {
          "base_uri": "https://localhost:8080/"
        },
        "id": "EpACMWaM0we7",
        "outputId": "8f116f97-6e68-4f04-db28-6dcbe4b96bb9"
      },
      "outputs": [],
      "source": [
        "numeric_features = train_data.select_dtypes(include=[np.number])\n",
        "corr = numeric_features.corr()\n",
        "corr['SalePrice'].sort_values(ascending=False)\n"
      ]
    },
    {
      "cell_type": "markdown",
      "metadata": {
        "id": "CKZvmg6rnGRr"
      },
      "source": [
        "### 1-4- selected features\n"
      ]
    },
    {
      "cell_type": "code",
      "execution_count": 9,
      "metadata": {
        "colab": {
          "base_uri": "https://localhost:8080/"
        },
        "id": "S7xxFniFN7kj",
        "outputId": "97416061-218e-4d7f-ca77-de5c74bb7055"
      },
      "outputs": [
        {
          "name": "stdout",
          "output_type": "stream",
          "text": [
            "(1459, 29) (1459, 1)\n",
            "(1460, 29) (1460, 1)\n"
          ]
        }
      ],
      "source": [
        "\n",
        "X_train = train_data[['OverallQual', 'GrLivArea', 'GarageCars', \n",
        "                      'GarageArea', 'TotalBsmtSF', '1stFlrSF', 'FullBath',\n",
        "                      'Alley', 'TotRmsAbvGrd', 'YearBuilt',\n",
        "                      'YearRemodAdd', 'GarageYrBlt', 'MasVnrArea',\n",
        "                      'Fireplaces', 'BsmtFinSF1',       \n",
        "                      'LotFrontage', 'WoodDeckSF', '2ndFlrSF',\n",
        "                      'OpenPorchSF', 'HalfBath', 'LotArea', \n",
        "                      'BsmtFullBath', 'BsmtUnfSF', 'SaleCondition',       \n",
        "                      'BedroomAbvGr', 'GarageCond', 'ExterCond',\n",
        "                      'GarageQual','ScreenPorch', ]]  \n",
        "Y_train = train_data[['SalePrice']]\n",
        "Y_train = np.log(Y_train)\n",
        "\n",
        "X_test = test_data[['OverallQual', 'GrLivArea', 'GarageCars', \n",
        "                      'GarageArea', 'TotalBsmtSF', '1stFlrSF', 'FullBath',\n",
        "                      'Alley', 'TotRmsAbvGrd', 'YearBuilt',\n",
        "                      'YearRemodAdd', 'GarageYrBlt', 'MasVnrArea',\n",
        "                      'Fireplaces', 'BsmtFinSF1',       \n",
        "                      'LotFrontage', 'WoodDeckSF', '2ndFlrSF',\n",
        "                      'OpenPorchSF', 'HalfBath', 'LotArea', \n",
        "                      'BsmtFullBath', 'BsmtUnfSF', 'SaleCondition',       \n",
        "                      'BedroomAbvGr', 'GarageCond', 'ExterCond',\n",
        "                      'GarageQual','ScreenPorch', ]]   \n",
        "\n",
        "Y_test = pd.read_csv('data/sample_submission.csv')\n",
        "Y_test = Y_test[['SalePrice']]\n",
        "Y_test = np.log(Y_test)\n",
        "\n",
        "print(X_test.shape, Y_test.shape)\n",
        "print(X_train.shape, Y_train.shape)"
      ]
    },
    {
      "cell_type": "markdown",
      "metadata": {
        "id": "m0r7chZrnK00"
      },
      "source": [
        "### null columns in X_train\n"
      ]
    },
    {
      "cell_type": "code",
      "execution_count": null,
      "metadata": {
        "colab": {
          "base_uri": "https://localhost:8080/",
          "height": 390
        },
        "id": "ZFBuSd7nFT4m",
        "outputId": "a52c46bd-837e-4706-cc46-a6c662c7ce27"
      },
      "outputs": [],
      "source": [
        "\n",
        "nulls = pd.DataFrame(X_train.isnull().sum().sort_values(ascending=False)[:10])\n",
        "nulls.columns = ['Null Count']\n",
        "nulls.index.name = 'Feature'\n",
        "nulls"
      ]
    },
    {
      "cell_type": "markdown",
      "metadata": {
        "id": "GuWlA9lhnPmg"
      },
      "source": [
        "### null columns in X_test\n"
      ]
    },
    {
      "cell_type": "code",
      "execution_count": 11,
      "metadata": {
        "colab": {
          "base_uri": "https://localhost:8080/",
          "height": 390
        },
        "id": "s2C_X_VaMu_Y",
        "outputId": "8aa5792d-d721-476a-85a3-3800143d1949"
      },
      "outputs": [
        {
          "data": {
            "text/html": [
              "<div>\n",
              "<style scoped>\n",
              "    .dataframe tbody tr th:only-of-type {\n",
              "        vertical-align: middle;\n",
              "    }\n",
              "\n",
              "    .dataframe tbody tr th {\n",
              "        vertical-align: top;\n",
              "    }\n",
              "\n",
              "    .dataframe thead th {\n",
              "        text-align: right;\n",
              "    }\n",
              "</style>\n",
              "<table border=\"1\" class=\"dataframe\">\n",
              "  <thead>\n",
              "    <tr style=\"text-align: right;\">\n",
              "      <th></th>\n",
              "      <th>Null Count</th>\n",
              "    </tr>\n",
              "    <tr>\n",
              "      <th>Feature</th>\n",
              "      <th></th>\n",
              "    </tr>\n",
              "  </thead>\n",
              "  <tbody>\n",
              "    <tr>\n",
              "      <th>Alley</th>\n",
              "      <td>1352</td>\n",
              "    </tr>\n",
              "    <tr>\n",
              "      <th>LotFrontage</th>\n",
              "      <td>227</td>\n",
              "    </tr>\n",
              "    <tr>\n",
              "      <th>GarageYrBlt</th>\n",
              "      <td>78</td>\n",
              "    </tr>\n",
              "    <tr>\n",
              "      <th>GarageCond</th>\n",
              "      <td>78</td>\n",
              "    </tr>\n",
              "    <tr>\n",
              "      <th>GarageQual</th>\n",
              "      <td>78</td>\n",
              "    </tr>\n",
              "    <tr>\n",
              "      <th>MasVnrArea</th>\n",
              "      <td>15</td>\n",
              "    </tr>\n",
              "    <tr>\n",
              "      <th>BsmtFullBath</th>\n",
              "      <td>2</td>\n",
              "    </tr>\n",
              "    <tr>\n",
              "      <th>TotalBsmtSF</th>\n",
              "      <td>1</td>\n",
              "    </tr>\n",
              "    <tr>\n",
              "      <th>BsmtFinSF1</th>\n",
              "      <td>1</td>\n",
              "    </tr>\n",
              "    <tr>\n",
              "      <th>BsmtUnfSF</th>\n",
              "      <td>1</td>\n",
              "    </tr>\n",
              "  </tbody>\n",
              "</table>\n",
              "</div>"
            ],
            "text/plain": [
              "              Null Count\n",
              "Feature                 \n",
              "Alley               1352\n",
              "LotFrontage          227\n",
              "GarageYrBlt           78\n",
              "GarageCond            78\n",
              "GarageQual            78\n",
              "MasVnrArea            15\n",
              "BsmtFullBath           2\n",
              "TotalBsmtSF            1\n",
              "BsmtFinSF1             1\n",
              "BsmtUnfSF              1"
            ]
          },
          "execution_count": 11,
          "metadata": {},
          "output_type": "execute_result"
        }
      ],
      "source": [
        "\n",
        "nulls = pd.DataFrame(X_test.isnull().sum().sort_values(ascending=False)[:10])\n",
        "nulls.columns = ['Null Count']\n",
        "nulls.index.name = 'Feature'\n",
        "nulls"
      ]
    },
    {
      "cell_type": "markdown",
      "metadata": {
        "id": "ScTiMyO4nTk3"
      },
      "source": [
        "### 1-5- fill null columns\n"
      ]
    },
    {
      "cell_type": "code",
      "execution_count": null,
      "metadata": {
        "id": "6ykh4JIhIHZv"
      },
      "outputs": [],
      "source": [
        "\n",
        "X_train['Alley'] = X_train['Alley'].fillna(2)\n",
        "X_train['LotFrontage'] = X_train['Alley'].fillna(np.round(np.mean(X_train['LotFrontage']), 0))\n",
        "X_train['GarageCond'] = X_train['GarageCond'].fillna(5)\n",
        "X_train['GarageQual'] = X_train['GarageQual'].fillna(5)\n",
        "X_train['GarageYrBlt'] = X_train['GarageYrBlt'].fillna(np.round(np.mean(X_train['GarageYrBlt']), 0))\n",
        "X_train['MasVnrArea'] = X_train['MasVnrArea'].fillna(np.round(np.mean(X_train['MasVnrArea']), 0))\n",
        "\n",
        "X_test['Alley'] = X_test['Alley'].fillna(2)\n",
        "X_test['LotFrontage'] = X_test['Alley'].fillna(np.round(np.mean(X_test['LotFrontage']), 0))\n",
        "X_test['GarageCond'] = X_test['GarageCond'].fillna(5)\n",
        "X_test['GarageQual'] = X_test['GarageQual'].fillna(5)\n",
        "X_test['GarageYrBlt'] = X_test['GarageYrBlt'].fillna(np.round(np.mean(X_test['GarageYrBlt']), 0))\n",
        "X_test['MasVnrArea'] = X_test['MasVnrArea'].fillna(np.round(np.mean(X_test['MasVnrArea']), 0))\n",
        "X_test['BsmtFullBath'] = X_test['BsmtFullBath'].fillna(4)\n",
        "X_test['BsmtFinSF1'] = X_test['BsmtFinSF1'].fillna(np.round(np.mean(X_test['BsmtFinSF1']), 0))\n",
        "X_test['TotalBsmtSF'] = X_test['TotalBsmtSF'].fillna(np.round(np.mean(X_test['TotalBsmtSF']), 0))\n",
        "X_test['BsmtUnfSF'] = X_test['BsmtUnfSF'].fillna(np.round(np.mean(X_test['BsmtUnfSF']), 0))\n",
        "X_test['GarageArea'] = X_test['GarageArea'].fillna(np.round(np.mean(X_test['GarageArea']), 0))\n",
        "X_test['GarageCars'] = X_test['GarageCars'].fillna(5)\n"
      ]
    },
    {
      "cell_type": "code",
      "execution_count": 13,
      "metadata": {
        "colab": {
          "base_uri": "https://localhost:8080/"
        },
        "id": "PuWI6ZjiLidt",
        "outputId": "8cb21f70-c5fa-47ca-ab71-e527965c3730"
      },
      "outputs": [
        {
          "name": "stdout",
          "output_type": "stream",
          "text": [
            "(1460, 29) (1460, 1) (1459, 29) (1459, 1)\n"
          ]
        }
      ],
      "source": [
        "X_train = np.array(X_train)\n",
        "Y_train = np.array(Y_train)\n",
        "X_test = np.array(X_test)\n",
        "Y_test = np.array(Y_test)\n",
        "print(X_train.shape, Y_train.shape, X_test.shape, Y_test.shape)"
      ]
    },
    {
      "cell_type": "code",
      "execution_count": null,
      "metadata": {
        "id": "LAdPPMp1zPyY"
      },
      "outputs": [],
      "source": [
        "from sklearn.model_selection import train_test_split\n",
        "\n",
        "X_train, X_val, Y_train, Y_val = train_test_split(X_train, Y_train, test_size=0.2, random_state=42)"
      ]
    },
    {
      "cell_type": "code",
      "execution_count": null,
      "metadata": {
        "id": "eAJ74uv1H9YG"
      },
      "outputs": [],
      "source": [
        "wandb.init(project='MLP-House Prices', entity='nahid-ebrahimian')"
      ]
    },
    {
      "cell_type": "markdown",
      "metadata": {
        "id": "rWVIj71DzDue"
      },
      "source": [
        "### creat model and ttraining"
      ]
    },
    {
      "cell_type": "code",
      "execution_count": 76,
      "metadata": {
        "id": "M82F241fOh4C"
      },
      "outputs": [],
      "source": [
        "model = tf.keras.models.Sequential([\n",
        "                        tf.keras.layers.Dense(29, input_dim = 29, activation='relu'),\n",
        "                        tf.keras.layers.Dense(64, activation='relu'),\n",
        "                        tf.keras.layers.Dense(128, activation='relu'),\n",
        "                        tf.keras.layers.Dense(256, activation='relu'),\n",
        "                        tf.keras.layers.Dense(512, activation='relu'), \n",
        "                        tf.keras.layers.Dense(1, activation='linear')\n",
        "                                    ])"
      ]
    },
    {
      "cell_type": "code",
      "execution_count": 77,
      "metadata": {
        "id": "hl3kDagbOo1w"
      },
      "outputs": [],
      "source": [
        "config = wandb.config\n",
        "config.learning_rate = 0.001\n",
        "\n",
        "# model.compile(optimizer=tf.keras.optimizers.Adam(learning_rate=config.learning_rate),\n",
        "#               loss=tf.keras.losses.MAE)\n",
        "\n",
        "model.compile(optimizer=tf.keras.optimizers.Adam(learning_rate=0.001),\n",
        "              loss=tf.keras.losses.MAE)\n"
      ]
    },
    {
      "cell_type": "code",
      "execution_count": null,
      "metadata": {
        "colab": {
          "base_uri": "https://localhost:8080/"
        },
        "id": "y9oKLwMYIkGL",
        "outputId": "f0dd3e36-e6d3-4174-82aa-a75dc208cc0b"
      },
      "outputs": [],
      "source": [
        "model.fit(X_train, Y_train, validation_data=(X_val, Y_val), epochs=100, \n",
        "callbacks=[WandbCallback()])"
      ]
    },
    {
      "cell_type": "code",
      "execution_count": 79,
      "metadata": {
        "colab": {
          "base_uri": "https://localhost:8080/"
        },
        "id": "y2VleK8tOoIB",
        "outputId": "325a4059-4bb9-47b5-f858-f8bc3e7c98c9"
      },
      "outputs": [
        {
          "name": "stdout",
          "output_type": "stream",
          "text": [
            "46/46 [==============================] - 0s 2ms/step - loss: 0.6222\n"
          ]
        },
        {
          "data": {
            "text/plain": [
              "1.863028759840387"
            ]
          },
          "execution_count": 79,
          "metadata": {},
          "output_type": "execute_result"
        }
      ],
      "source": [
        "loss = model.evaluate(X_test, Y_test)\n",
        "np.exp(loss)"
      ]
    },
    {
      "cell_type": "code",
      "execution_count": 74,
      "metadata": {
        "id": "qlCbKeFQiqb1"
      },
      "outputs": [],
      "source": []
    }
  ],
  "metadata": {
    "colab": {
      "collapsed_sections": [],
      "name": "MachineLearning10.ipynb",
      "provenance": []
    },
    "kernelspec": {
      "display_name": "Python 3",
      "name": "python3"
    },
    "language_info": {
      "name": "python"
    }
  },
  "nbformat": 4,
  "nbformat_minor": 0
}
