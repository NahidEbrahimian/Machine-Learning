{
 "cells": [
  {
   "cell_type": "code",
   "execution_count": 1,
   "id": "06f5c014-06ea-41c3-9851-72bfa71334db",
   "metadata": {},
   "outputs": [],
   "source": [
    "import numpy as np\n",
    "import cv2"
   ]
  },
  {
   "cell_type": "code",
   "execution_count": 20,
   "id": "ae7c9088-18bc-424e-b4d6-1c4cad26bac8",
   "metadata": {},
   "outputs": [
    {
     "name": "stdout",
     "output_type": "stream",
     "text": [
      "91.76\n"
     ]
    }
   ],
   "source": [
    "img = cv2.imread('mnist.png')\n",
    "img_gray = cv2.cvtColor(img, cv2.COLOR_BGR2GRAY)\n",
    "\n",
    "cells = [np.hsplit(row, 100) for row in np.vsplit(img_gray, 50)]\n",
    "# print(cells)\n",
    "\n",
    "x = np.array(cells)\n",
    "# print(x.shape)\n",
    "\n",
    "train = x[:, :50].reshape(-1, 400).astype(np.float32)\n",
    "# print(train.shape)\n",
    "\n",
    "test = x[:, 50:100].reshape(-1, 400).astype(np.float32)\n",
    "# print(test.shape)\n",
    "\n",
    "k = np.arange(10)\n",
    "train_labels = np.repeat(k, 250)[:, np.newaxis]\n",
    "# print(train_labels)\n",
    "test_labels = train_labels.copy()\n",
    "\n",
    "\n",
    "knn = cv2.ml.KNearest_create()\n",
    "\n",
    "knn.train(train, cv2.ml.ROW_SAMPLE, train_labels)\n",
    "ret, result, neighbors, dist = knn.findNearest(test, k = 5)\n",
    "\n",
    "matches = result==test_labels\n",
    "correct = np.count_nonzero(matches)\n",
    "\n",
    "accuracy = correct*100.0 / result.size\n",
    "print(accuracy)"
   ]
  },
  {
   "cell_type": "code",
   "execution_count": 21,
   "id": "0c9014b1-1daf-4ed7-b692-2aa6e1749365",
   "metadata": {},
   "outputs": [
    {
     "name": "stdout",
     "output_type": "stream",
     "text": [
      "['train', 'train_labels']\n",
      "(2500, 400)\n",
      "(2500, 1)\n"
     ]
    }
   ],
   "source": [
    "np.savez('knn_data.npz', train = train, train_labels = train_labels)\n",
    "\n",
    "with np.load('knn_data.npz') as data:\n",
    "    \n",
    "    print(data.files)\n",
    "    \n",
    "    train = data['train']\n",
    "    print(train.shape)\n",
    "    \n",
    "    train_labels = data['train_labels']\n",
    "    print(train_labels.shape)"
   ]
  },
  {
   "cell_type": "code",
   "execution_count": null,
   "id": "83903593-dff7-453c-a99b-0d4b9a5881a5",
   "metadata": {},
   "outputs": [],
   "source": []
  }
 ],
 "metadata": {
  "kernelspec": {
   "display_name": "Python 3 (ipykernel)",
   "language": "python",
   "name": "python3"
  },
  "language_info": {
   "codemirror_mode": {
    "name": "ipython",
    "version": 3
   },
   "file_extension": ".py",
   "mimetype": "text/x-python",
   "name": "python",
   "nbconvert_exporter": "python",
   "pygments_lexer": "ipython3",
   "version": "3.7.9"
  }
 },
 "nbformat": 4,
 "nbformat_minor": 5
}
