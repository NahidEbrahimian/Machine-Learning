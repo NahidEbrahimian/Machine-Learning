{
 "cells": [
  {
   "cell_type": "code",
   "execution_count": 1,
   "metadata": {
    "colab": {
     "base_uri": "https://localhost:8080/"
    },
    "id": "CLziNyeM8MpO",
    "outputId": "7090f430-3f0b-4677-9ea8-c71f6406311e"
   },
   "outputs": [
    {
     "name": "stdout",
     "output_type": "stream",
     "text": [
      "Drive already mounted at /content/drive; to attempt to forcibly remount, call drive.mount(\"/content/drive\", force_remount=True).\n"
     ]
    }
   ],
   "source": [
    "from google.colab import drive\n",
    "drive.mount('/content/drive')"
   ]
  },
  {
   "cell_type": "code",
   "execution_count": 2,
   "metadata": {
    "id": "X8sIPng48O5U"
   },
   "outputs": [],
   "source": [
    "import numpy as np\n",
    "import pandas as pd\n",
    "import matplotlib.pyplot as plt\n",
    "import tensorflow as tf\n"
   ]
  },
  {
   "cell_type": "code",
   "execution_count": 3,
   "metadata": {
    "colab": {
     "base_uri": "https://localhost:8080/"
    },
    "id": "9Tq8hNut9y0N",
    "outputId": "ada8c8a0-0b74-4ddd-a131-e16bb410bd07"
   },
   "outputs": [
    {
     "name": "stdout",
     "output_type": "stream",
     "text": [
      "/content/drive/MyDrive/MachineLearning/MachineLearning9\n"
     ]
    }
   ],
   "source": [
    "cd /content/drive/MyDrive/MachineLearning/MachineLearning9"
   ]
  },
  {
   "cell_type": "markdown",
   "metadata": {
    "id": "W2_9HqGRUKD5"
   },
   "source": [
    "### load and preprocessing data"
   ]
  },
  {
   "cell_type": "code",
   "execution_count": 4,
   "metadata": {
    "id": "18URBt1w92KT"
   },
   "outputs": [],
   "source": [
    "train_data = pd.read_csv('train.csv')\n",
    "train_data = train_data.replace(['female', 'male'], [0, 1])\n",
    "train_data = train_data.replace(['S', 'C', 'Q'], [0, 1, 2])\n",
    "train_data = train_data.fillna(0)\n",
    "Y_train = train_data[['Survived']]\n",
    "X_train = train_data[['Pclass', 'Sex', 'Fare', 'Age', 'SibSp', 'Parch', 'Embarked']]\n",
    "\n",
    "Y_train = np.array(Y_train)\n",
    "X_train = np.array(X_train)\n"
   ]
  },
  {
   "cell_type": "code",
   "execution_count": 5,
   "metadata": {
    "id": "ZG_KAyLd9_2z"
   },
   "outputs": [],
   "source": [
    "test_data = pd.read_csv('test.csv')\n",
    "test_data = test_data.replace(['female', 'male'], [0, 1])\n",
    "test_data = test_data.replace(['S', 'C', 'Q'], [0, 1, 2])\n",
    "test_data = test_data.fillna(0)\n",
    "X_test = test_data[['Pclass', 'Sex', 'Fare', 'Age', 'SibSp', 'Parch', 'Embarked']]\n",
    "\n",
    "test_label = pd.read_csv('gender_submission.csv')\n",
    "Y_test = test_label[['Survived']]\n",
    "\n",
    "Y_test = np.array(Y_test)\n",
    "X_test = np.array(X_test)\n"
   ]
  },
  {
   "cell_type": "markdown",
   "metadata": {
    "id": "cnk6cSHtAOEj"
   },
   "source": [
    "### Model, train and test"
   ]
  },
  {
   "cell_type": "code",
   "execution_count": null,
   "metadata": {
    "colab": {
     "base_uri": "https://localhost:8080/"
    },
    "id": "PiJ3dMi7Elye",
    "outputId": "c78e9223-6bc6-4b57-e536-4ae1de37f89b"
   },
   "outputs": [],
   "source": [
    "\n",
    "model = tf.keras.models.Sequential([\n",
    "                        tf.keras.layers.Dense(7, activation='relu'),\n",
    "                        tf.keras.layers.Dense(64, activation='relu'),\n",
    "                        tf.keras.layers.Dense(128, activation='relu'),\n",
    "                        # tf.keras.layers.Dense(256, activation='relu'),\n",
    "                        tf.keras.layers.Dense(2, activation='softmax')\n",
    "                                    ])\n",
    "\n",
    "model.compile(optimizer=tf.keras.optimizers.SGD(learning_rate=0.001),\n",
    "              # loss='mse',\n",
    "              loss=tf.keras.losses.sparse_categorical_crossentropy,\n",
    "              metrics='accuracy')\n",
    "\n",
    "history = model.fit(X_train, Y_train, epochs=800)\n",
    "# model.save('/content/drive/MyDrive/MachineLearning/MachineLearning9/model6.h5')\n",
    "\n"
   ]
  },
  {
   "cell_type": "code",
   "execution_count": 7,
   "metadata": {
    "colab": {
     "base_uri": "https://localhost:8080/",
     "height": 296
    },
    "id": "8S0AYFaUGmq1",
    "outputId": "2ac9c21b-43a3-4d7e-8acf-32f026d668b6"
   },
   "outputs": [
    {
     "data": {
      "text/plain": [
       "Text(0, 0.5, 'Loss')"
      ]
     },
     "execution_count": 7,
     "metadata": {},
     "output_type": "execute_result"
    },
    {
     "data": {
      "image/png": "[encoded data removed]",
      "text/plain": [
       "<Figure size 432x288 with 1 Axes>"
      ]
     },
     "metadata": {
      "needs_background": "light"
     },
     "output_type": "display_data"
    }
   ],
   "source": [
    "plt.plot(history.history['loss'])\n",
    "plt.plot(history.history['accuracy'])\n",
    "plt.xlabel('Epoch')\n",
    "plt.ylabel('Loss')"
   ]
  },
  {
   "cell_type": "code",
   "execution_count": 9,
   "metadata": {
    "colab": {
     "base_uri": "https://localhost:8080/"
    },
    "id": "-3RhvmQbM146",
    "outputId": "69425a0e-a4cf-49f0-8840-155a03bfee52"
   },
   "outputs": [
    {
     "name": "stdout",
     "output_type": "stream",
     "text": [
      "14/14 [==============================] - 0s 1ms/step - loss: 0.2956 - accuracy: 0.9641\n"
     ]
    },
    {
     "data": {
      "text/plain": [
       "[0.29563194513320923, 0.9641148447990417]"
      ]
     },
     "execution_count": 9,
     "metadata": {},
     "output_type": "execute_result"
    }
   ],
   "source": [
    "model = tf.keras.models.load_model(\"/content/drive/MyDrive/MachineLearning/MachineLearning9/model2.h5\")\n",
    "model.evaluate(X_test, Y_test)\n"
   ]
  },
  {
   "cell_type": "code",
   "execution_count": null,
   "metadata": {
    "colab": {
     "base_uri": "https://localhost:8080/"
    },
    "id": "RzFkO5GUgeRT",
    "outputId": "8acbb566-d643-4b53-c4f4-3085b3b0fc2c"
   },
   "outputs": [],
   "source": [
    "Y_pred = model.predict(X_test)\n",
    "predict = np.argmax(Y_pred, axis = 1)\n",
    "predict"
   ]
  },
  {
   "cell_type": "code",
   "execution_count": null,
   "metadata": {
    "id": "D4Uq7tU0W-fR"
   },
   "outputs": [],
   "source": []
  }
 ],
 "metadata": {
  "colab": {
   "collapsed_sections": [],
   "name": "MachineLearning9.ipynb",
   "provenance": []
  },
  "kernelspec": {
   "display_name": "Python 3 (ipykernel)",
   "language": "python",
   "name": "python3"
  },
  "language_info": {
   "codemirror_mode": {
    "name": "ipython",
    "version": 3
   },
   "file_extension": ".py",
   "mimetype": "text/x-python",
   "name": "python",
   "nbconvert_exporter": "python",
   "pygments_lexer": "ipython3",
   "version": "3.7.9"
  }
 },
 "nbformat": 4,
 "nbformat_minor": 4
}
