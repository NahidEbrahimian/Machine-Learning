{
 "cells": [
  {
   "cell_type": "code",
   "execution_count": 1,
   "id": "4ad340f5-648a-45da-af6c-b4f8c7294b8d",
   "metadata": {},
   "outputs": [],
   "source": [
    "import numpy as np\n",
    "from numpy.linalg import inv\n",
    "from sklearn import datasets\n",
    "from sklearn.model_selection import train_test_split"
   ]
  },
  {
   "cell_type": "code",
   "execution_count": 2,
   "id": "391dbe29-7182-4f21-82e3-4a8c3726740a",
   "metadata": {},
   "outputs": [],
   "source": [
    "data_set = datasets.load_iris()\n",
    "X_data = data_set.data\n",
    "Y_data = data_set.target\n",
    "\n",
    "sub_data = np.where((Y_data[:,] == 1) | (Y_data[:,] == 2))[0]\n",
    "X = X_data[sub_data]\n",
    "Y = Y_data[sub_data]\n"
   ]
  },
  {
   "cell_type": "code",
   "execution_count": 3,
   "id": "23adf790-4030-40ed-a611-dc6fc56bd5dc",
   "metadata": {},
   "outputs": [],
   "source": [
    "class AdelineClassifier:\n",
    "    def __init__(self):\n",
    "        pass\n",
    "    \n",
    "    def fit(self, X_tarin, y_tarin):\n",
    "        #w = (X.T*X)^-1 * (X.T*Y)\n",
    "        self.w = np.matmul(inv(np.matmul(X_tarin.T, X_tarin)), np.matmul(X_tarin.T, y_tarin))\n",
    "        \n",
    "    def predict(self, X_test):\n",
    "        y_pred = np.matmul(X_test, self.w)\n",
    "        y_pred = np.round(y_pred, 1)\n",
    "        \n",
    "        \n",
    "        return y_pred\n",
    "    \n",
    "    def evaluate(self, X_test, y_test):\n",
    "        y_pred = np.matmul(X_test, self.w)\n",
    "        y_pred = np.round(y_pred, 1)\n",
    "        \n",
    "        if np.min(y_test) == 0 and np.max(y_test) == 1:\n",
    "            y_pred[y_pred > 0.5] = 1\n",
    "            y_pred[y_pred <= 0.5] = 0\n",
    "            \n",
    "        if np.min(y_test) == 0 and np.max(y_test) == 2:\n",
    "            y_pred[y_pred > 1] = 2\n",
    "            y_pred[y_pred <= 1] = 0\n",
    "\n",
    "        if np.min(y_test) == 1 and np.max(y_test) == 2:\n",
    "            y_pred[y_pred > 1.5] = 2\n",
    "            y_pred[y_pred <= 1.5] = 1\n",
    "            \n",
    "        accuracy = np.count_nonzero(y_pred == y_test) / len(y_test) * 100\n",
    "            \n",
    "        return accuracy"
   ]
  },
  {
   "cell_type": "code",
   "execution_count": 4,
   "id": "3836a9b3-d7d5-4705-99d2-d56ff129035e",
   "metadata": {},
   "outputs": [],
   "source": [
    "X_train, X_test, Y_train, Y_test = train_test_split(X, Y, test_size=0.3)"
   ]
  },
  {
   "cell_type": "code",
   "execution_count": 5,
   "id": "6465bbb2-b327-4b5f-bb3e-bcf6aa1af505",
   "metadata": {},
   "outputs": [
    {
     "name": "stdout",
     "output_type": "stream",
     "text": [
      "[-0.11151451 -0.20900154  0.3400936   0.68739765]\n",
      "pred [1.2 1.8 1.4 1.2 1.2 2.2 1.9 2.2 1.1 1.9 1.9 1.5 1.5 1.3 2.4 2.1 0.9 1.9\n",
      " 0.9 2.  1.3 2.1 1.8 1.6 1.6 1.3 1.5 1.7 2.2 1.1]\n",
      "true [1 2 1 1 1 2 2 2 1 2 2 1 1 1 2 2 1 2 1 2 1 2 2 2 2 1 1 2 2 1]\n"
     ]
    }
   ],
   "source": [
    "model = AdelineClassifier()\n",
    "model.fit(X_train, Y_train)\n",
    "print(model.w)\n",
    "\n",
    "pred = model.predict(X_test)\n",
    "print('pred', pred)\n",
    "print('true', Y_test)\n"
   ]
  },
  {
   "cell_type": "code",
   "execution_count": 6,
   "id": "df288e3d-1f5f-475b-be3b-3b0678f785ce",
   "metadata": {},
   "outputs": [
    {
     "name": "stdout",
     "output_type": "stream",
     "text": [
      "accuracy 100.0\n"
     ]
    }
   ],
   "source": [
    "accuracy = model.evaluate(X_test, Y_test)\n",
    "print('accuracy', accuracy)"
   ]
  },
  {
   "cell_type": "markdown",
   "id": "e374d46e-ccd9-454d-b207-5573ff96e84f",
   "metadata": {},
   "source": [
    "### KNN"
   ]
  },
  {
   "cell_type": "code",
   "execution_count": 7,
   "id": "3843e6d4-7a87-4cd8-b36b-14dc05143738",
   "metadata": {},
   "outputs": [],
   "source": [
    "class KNearestNeighbore():\n",
    "    def __init__(self, k):\n",
    "        self.k = k\n",
    "    \n",
    "    \n",
    "    def fit(self, X_train, y_train):\n",
    "        self.X_train = X_train\n",
    "        self.y_train = y_train\n",
    "        self.number_classes = len(np.unique(y_train))\n",
    "    \n",
    "    def nearNeighbors(self, x_test):\n",
    "        distance = np.sqrt(np.sum((x_test- self.X_train)**2, axis = 1))\n",
    "        near_neighbors = np.argsort(distance)[:self.k]\n",
    "        \n",
    "        return near_neighbors\n",
    "    \n",
    "    def predict(self, x_test):\n",
    "        near_neighbors = self.nearNeighbors(x_test)\n",
    "        predict_label = np.argmax(np.bincount(self.y_train[near_neighbors]))\n",
    "            \n",
    "        return predict_label\n",
    "    \n",
    "    def evaluate(self, X_test, y_test):\n",
    "        self.X_test = X_test\n",
    "        self.Y_test = y_test\n",
    "        y_pred = []     \n",
    "        \n",
    "        for i in range(len(X_test)):\n",
    "            y_pred.append(self.predict(X_test[i]))\n",
    "            \n",
    "        true_label = np.count_nonzero(y_pred == y_test)\n",
    "        accuracy = (true_label / len(y_pred))*100\n",
    "        \n",
    "        return accuracy"
   ]
  },
  {
   "cell_type": "code",
   "execution_count": 8,
   "id": "aee9501c-19a4-47c7-8409-4601f5c71a7f",
   "metadata": {},
   "outputs": [
    {
     "name": "stdout",
     "output_type": "stream",
     "text": [
      "accuracy 90.0\n"
     ]
    }
   ],
   "source": [
    "knn = KNearestNeighbore(5)\n",
    "knn.fit(X_train, Y_train)\n",
    "\n",
    "accuracy = knn.evaluate(X_test, Y_test)\n",
    "\n",
    "print('accuracy', accuracy)"
   ]
  },
  {
   "cell_type": "code",
   "execution_count": null,
   "id": "dda58d45-5d84-4aff-93a1-790275a89ebc",
   "metadata": {},
   "outputs": [],
   "source": []
  }
 ],
 "metadata": {
  "kernelspec": {
   "display_name": "Python 3 (ipykernel)",
   "language": "python",
   "name": "python3"
  },
  "language_info": {
   "codemirror_mode": {
    "name": "ipython",
    "version": 3
   },
   "file_extension": ".py",
   "mimetype": "text/x-python",
   "name": "python",
   "nbconvert_exporter": "python",
   "pygments_lexer": "ipython3",
   "version": "3.7.9"
  }
 },
 "nbformat": 4,
 "nbformat_minor": 5
}
